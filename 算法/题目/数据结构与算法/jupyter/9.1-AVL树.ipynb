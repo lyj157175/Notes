{
 "cells": [
  {
   "cell_type": "code",
   "execution_count": null,
   "metadata": {},
   "outputs": [],
   "source": [
    "# AVL平衡二叉搜索数：数的左右高度最多相差1，不然就自动进行平衡\n",
    "\n",
    "# 解决方法：分清类型，进行旋转\n",
    "\n",
    "# # 分四种情况\n",
    "# 1. LL(左子树的左节点高度大) => 右旋\n",
    "# 2. RR(右子树的右节点高度大) => 左旋\n",
    "# 3. LR(左子树的右节点高度大) => 先左旋，后右旋\n",
    "# 4. RL(右子树的左节点高度大) => 先右旋，后左旋"
   ]
  }
 ],
 "metadata": {
  "kernelspec": {
   "display_name": "Python 3.7.4 64-bit ('base': conda)",
   "language": "python",
   "name": "python37464bitbasecondac1ed852f726f46e99aa9eda212d43d36"
  },
  "language_info": {
   "codemirror_mode": {
    "name": "ipython",
    "version": 3
   },
   "file_extension": ".py",
   "mimetype": "text/x-python",
   "name": "python",
   "nbconvert_exporter": "python",
   "pygments_lexer": "ipython3",
   "version": "3.7.4"
  }
 },
 "nbformat": 4,
 "nbformat_minor": 2
}
