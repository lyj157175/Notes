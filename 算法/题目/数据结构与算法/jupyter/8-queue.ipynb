{
 "cells": [
  {
   "cell_type": "markdown",
   "metadata": {},
   "source": [
    "## 数组队列"
   ]
  },
  {
   "cell_type": "code",
   "execution_count": 19,
   "metadata": {},
   "outputs": [],
   "source": [
    "class ArrayQueue:\n",
    "    DEFAULT_CAPACITY = 10\n",
    "    def __init__(self):\n",
    "        self.data = [None] * ArrayQueue.DEFAULT_CAPACITY\n",
    "        self.size = 0\n",
    "        self.front = 0\n",
    "    \n",
    "    def __len__(self):\n",
    "        return self.size\n",
    "    \n",
    "    def is_empty(self):\n",
    "        return self.size == 0\n",
    "    \n",
    "    def first(self):\n",
    "        if self.is_empty():\n",
    "            raise ValueError('queue is empty')\n",
    "        return self.data[self.front]\n",
    "    \n",
    "    def dequeue(self):\n",
    "        if self.is_empty():\n",
    "            raise ValueError('queue is empty')\n",
    "        item = self.data[self.front]\n",
    "        self.data[self.front] = None\n",
    "        self.front = (self.front + 1) % len(self.data)\n",
    "        self.size -= 1\n",
    "        return item\n",
    "    \n",
    "    def enqueue(self, item):\n",
    "        if self.size == len(self.data):\n",
    "            self.resize(2 * len(self.data))\n",
    "        pos = (self.front + self.size) % len(self.data)\n",
    "        self.data[pos] = item\n",
    "        self.size += 1\n",
    "        \n",
    "        \n",
    "    def resize(self, cap):\n",
    "        old = self.data\n",
    "        self.data = [None] * cap\n",
    "        walk = self.front\n",
    "        for k in range(self.size):\n",
    "            self.data[k] = old[k]\n",
    "            walk = (walk + 1) % len(old)\n",
    "        self.front = 0\n",
    "    \n",
    "    def printqueue(self):\n",
    "        for i in range(self.size):\n",
    "            pos = (self.front + self.size - 1 - i) % len(self.data)\n",
    "            #print(str(i), \": \", str(pos))\n",
    "            print(self.data[pos], end = \" \")  \n",
    "        print()\n",
    "            \n",
    "    "
   ]
  },
  {
   "cell_type": "code",
   "execution_count": 18,
   "metadata": {},
   "outputs": [
    {
     "name": "stdout",
     "output_type": "stream",
     "text": [
      "size was:  0\n",
      "size was:  5\n",
      "5 4 3 2 1 \n",
      "size was:  3\n",
      "5 4 3 \n",
      "7 6 5 4 3 \n",
      "size was:  3\n",
      "7 6 5 \n",
      "size was:  0\n",
      "\n"
     ]
    }
   ],
   "source": [
    "myqueue = ArrayQueue()\n",
    "print ('size was: ', str(len(myqueue)))\n",
    "myqueue.enqueue(1)\n",
    "myqueue.enqueue(2)\n",
    "myqueue.enqueue(3)\n",
    "myqueue.enqueue(4)\n",
    "myqueue.enqueue(5)\n",
    "print ('size was: ', str(len(myqueue)))\n",
    "myqueue.printqueue()\n",
    "myqueue.dequeue()\n",
    "myqueue.dequeue()\n",
    "print ('size was: ', str(len(myqueue)))\n",
    "myqueue.printqueue()\n",
    "myqueue.enqueue(6)\n",
    "myqueue.enqueue(7)\n",
    "myqueue.printqueue()\n",
    "myqueue.dequeue()\n",
    "myqueue.dequeue()\n",
    "print ('size was: ', str(len(myqueue)))\n",
    "myqueue.printqueue()\n",
    "myqueue.dequeue()\n",
    "myqueue.dequeue()\n",
    "myqueue.dequeue()\n",
    "print ('size was: ', str(len(myqueue)))\n",
    "myqueue.printqueue()\n",
    "#myqueue.dequeue()"
   ]
  },
  {
   "cell_type": "code",
   "execution_count": null,
   "metadata": {},
   "outputs": [],
   "source": []
  },
  {
   "cell_type": "markdown",
   "metadata": {},
   "source": [
    "## LinkedQueue"
   ]
  },
  {
   "cell_type": "code",
   "execution_count": 23,
   "metadata": {},
   "outputs": [],
   "source": [
    "from LinkedList import LinkedList\n",
    "from LinkedList import Node\n",
    "\n",
    "class LinkedQueue(object):\n",
    "    def __init__(self):\n",
    "        self.head = None\n",
    "        self.tail = None\n",
    "        self.count = 0\n",
    "    \n",
    "    def __len__(self):\n",
    "        return self.count\n",
    "    \n",
    "    def is_empty(self):\n",
    "        return self.count == 0\n",
    "    \n",
    "    def peek(self):\n",
    "        return self.head.data\n",
    "    \n",
    "    def enqueue(self, value):\n",
    "        node = Node(value)\n",
    "        if self.tail is not None:\n",
    "            self.tail.next = node\n",
    "        else:\n",
    "            self.head = node\n",
    "        \n",
    "        self.tail = node  # 将新加的node定为tail\n",
    "        self.count += 1\n",
    "    \n",
    "    def dequeue(self):\n",
    "        if not self.is_empty():\n",
    "            cur = self.head\n",
    "            self.head = self.head.next\n",
    "            self.count -= 1\n",
    "            return cur\n",
    "        else:\n",
    "            raise ValueError('queue is empty')\n",
    "    \n",
    "    def printqueue(self):\n",
    "        cur = self.head\n",
    "        while cur:\n",
    "            print(cur.value, end = ' ')\n",
    "            cur = cur.next\n",
    "        "
   ]
  },
  {
   "cell_type": "code",
   "execution_count": null,
   "metadata": {},
   "outputs": [],
   "source": []
  }
 ],
 "metadata": {
  "kernelspec": {
   "display_name": "Python 3",
   "language": "python",
   "name": "python3"
  },
  "language_info": {
   "codemirror_mode": {
    "name": "ipython",
    "version": 3
   },
   "file_extension": ".py",
   "mimetype": "text/x-python",
   "name": "python",
   "nbconvert_exporter": "python",
   "pygments_lexer": "ipython3",
   "version": "3.8.5"
  }
 },
 "nbformat": 4,
 "nbformat_minor": 2
}
