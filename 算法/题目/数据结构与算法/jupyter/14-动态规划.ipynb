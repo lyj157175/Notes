{
 "cells": [
  {
   "cell_type": "code",
   "execution_count": 1,
   "metadata": {},
   "outputs": [],
   "source": [
    "# 分治：从上到下\n",
    "# 动规：从下到上，储存很多小问题，经典的斐波那契数列"
   ]
  },
  {
   "cell_type": "code",
   "execution_count": null,
   "metadata": {},
   "outputs": [],
   "source": [
    "# 首先，动态规划问题的一般形式就是求最值，比如说让你求最长递增子序列呀，最小编辑距离呀等等。\n",
    "DP三要素：\n",
    "重叠子问题\n",
    "最优子结构\n",
    "状态转移方程"
   ]
  },
  {
   "cell_type": "code",
   "execution_count": null,
   "metadata": {},
   "outputs": [],
   "source": [
    "# 斐波那契\n",
    "def fibonaci(n):"
   ]
  },
  {
   "cell_type": "code",
   "execution_count": 3,
   "metadata": {},
   "outputs": [],
   "source": [
    "# 入室抢劫（从下到上分析问题）\n",
    "# 公式：\n",
    "# 抢第N个房子： Y(i) = N(i-1) + a[i]\n",
    "# 不抢N个房子： N(i) = max(Y(i-1), N(i-1))"
   ]
  },
  {
   "cell_type": "code",
   "execution_count": null,
   "metadata": {},
   "outputs": [],
   "source": []
  }
 ],
 "metadata": {
  "kernelspec": {
   "display_name": "Python 3",
   "language": "python",
   "name": "python3"
  },
  "language_info": {
   "codemirror_mode": {
    "name": "ipython",
    "version": 3
   },
   "file_extension": ".py",
   "mimetype": "text/x-python",
   "name": "python",
   "nbconvert_exporter": "python",
   "pygments_lexer": "ipython3",
   "version": "3.8.5"
  }
 },
 "nbformat": 4,
 "nbformat_minor": 2
}
