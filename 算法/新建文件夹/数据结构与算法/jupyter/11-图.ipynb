{
 "cells": [
  {
   "cell_type": "markdown",
   "metadata": {},
   "source": [
    "### 1.邻接矩阵实现图"
   ]
  },
  {
   "cell_type": "code",
   "execution_count": 1,
   "metadata": {},
   "outputs": [],
   "source": [
    "class Vertex:\n",
    "    def __init__(self, node):\n",
    "        self.id = node\n",
    "        # Mark all nodes unvisited        \n",
    "        self.visited = False  \n",
    "\n",
    "    def addNeighbor(self, neighbor, G):\n",
    "        G.addEdge(self.id, neighbor)\n",
    "\n",
    "    def getConnections(self, G):\n",
    "        return G.adjMatrix[self.id]\n",
    "\n",
    "    def getVertexID(self):\n",
    "        return self.id\n",
    "\n",
    "    def setVertexID(self, id):\n",
    "        self.id = id\n",
    "\n",
    "    def setVisited(self):\n",
    "        self.visited = True\n",
    "\n",
    "    def __str__(self):\n",
    "        return str(self.id)\n",
    "\n",
    "class Graph:\n",
    "    def __init__(self, numVertices=10, directed=False):\n",
    "        self.adjMatrix = [[None] * numVertices for _ in range(numVertices)]\n",
    "        self.numVertices = numVertices\n",
    "        self.vertices = []\n",
    "        self.directed = directed\n",
    "        for i in range(0, numVertices):\n",
    "            newVertex = Vertex(i)\n",
    "            self.vertices.append(newVertex)\n",
    "\n",
    "    def addVertex(self, vtx, id):\n",
    "        if 0 <= vtx < self.numVertices:\n",
    "            self.vertices[vtx].setVertexID(id)\n",
    "\n",
    "    def getVertex(self, n):\n",
    "        for vertxin in range(0, self.numVertices):\n",
    "            if n == self.vertices[vertxin].getVertexID():\n",
    "                return vertxin\n",
    "        return None\n",
    "\n",
    "    def addEdge(self, frm, to, cost=0): \n",
    "        #print(\"from\",frm, self.getVertex(frm))\n",
    "        #print(\"to\",to, self.getVertex(to))\n",
    "        if self.getVertex(frm) is not None and self.getVertex(to) is not None:\n",
    "            self.adjMatrix[self.getVertex(frm)][self.getVertex(to)] = cost\n",
    "            if not self.directed:\n",
    "                # For directed graph do not add this\n",
    "                self.adjMatrix[self.getVertex(to)][self.getVertex(frm)] = cost  \n",
    "\n",
    "    def getVertices(self):\n",
    "        vertices = []\n",
    "        for vertxin in range(0, self.numVertices):\n",
    "            vertices.append(self.vertices[vertxin].getVertexID())\n",
    "        return vertices\n",
    "\n",
    "    def printMatrix(self):\n",
    "        for u in range(0, self.numVertices):\n",
    "            row = []\n",
    "            for v in range(0, self.numVertices):\n",
    "                row.append(str(self.adjMatrix[u][v]) if self.adjMatrix[u][v] is not None else '/')\n",
    "            print(row)\n",
    "\n",
    "    def getEdges(self):\n",
    "        edges = []\n",
    "        for v in range(0, self.numVertices):\n",
    "            for u in range(0, self.numVertices):\n",
    "                if self.adjMatrix[u][v] is not None:\n",
    "                    vid = self.vertices[v].getVertexID()\n",
    "                    wid = self.vertices[u].getVertexID()\n",
    "                    edges.append((vid, wid, self.adjMatrix[u][v]))\n",
    "        return edges\n",
    "    \n",
    "    def getNeighbors(self, n):\n",
    "        neighbors = []\n",
    "        for vertxin in range(0, self.numVertices):\n",
    "            if n == self.vertices[vertxin].getVertexID():\n",
    "                for neighbor in range(0, self.numVertices):\n",
    "                    if (self.adjMatrix[vertxin][neighbor] is not None):\n",
    "                        neighbors.append(self.vertices[neighbor].getVertexID())\n",
    "        return neighbors\n",
    "    \n",
    "    def isConnected(self, u, v):\n",
    "        uidx = self.getVertex(u) \n",
    "        vidx = self.getVertex(v)\n",
    "        return self.adjMatrix[uidx][vidx] is not None\n",
    "    \n",
    "    def get2Hops(self, u):\n",
    "        neighbors = self.getNeighbors(u)\n",
    "        print(neighbors)\n",
    "        hopset = set()\n",
    "        for v in neighbors:\n",
    "            hops = self.getNeighbors(v)\n",
    "            hopset |= set(hops)\n",
    "        return list(hopset)"
   ]
  },
  {
   "cell_type": "code",
   "execution_count": 3,
   "metadata": {},
   "outputs": [
    {
     "name": "stdout",
     "output_type": "stream",
     "text": [
      "['a', 'b', 'c', 'd', 'e', 'f']\n",
      "['/', '1', '2', '/', '/', '/']\n",
      "['/', '/', '/', '3', '4', '/']\n",
      "['/', '/', '/', '5', '6', '/']\n",
      "['/', '/', '/', '/', '7', '/']\n",
      "['8', '/', '/', '/', '/', '/']\n",
      "['/', '/', '/', '/', '/', '/']\n",
      "None\n",
      "[('a', 'e', 8), ('b', 'a', 1), ('c', 'a', 2), ('d', 'b', 3), ('d', 'c', 5), ('e', 'b', 4), ('e', 'c', 6), ('e', 'd', 7)]\n"
     ]
    }
   ],
   "source": [
    "graph = Graph(6,True)\n",
    "graph.addVertex(0, 'a')\n",
    "graph.addVertex(1, 'b')\n",
    "graph.addVertex(2, 'c')\n",
    "graph.addVertex(3, 'd')\n",
    "graph.addVertex(4, 'e')\n",
    "graph.addVertex(5, 'f')\n",
    "graph.addVertex(6, 'g') # doing nothing here \n",
    "graph.addVertex(7, 'h') # doing nothing here\n",
    "\n",
    "print(graph.getVertices())\n",
    "graph.addEdge('a', 'b', 1)  \n",
    "graph.addEdge('a', 'c', 2)\n",
    "graph.addEdge('b', 'd', 3)\n",
    "graph.addEdge('b', 'e', 4)\n",
    "graph.addEdge('c', 'd', 5)\n",
    "graph.addEdge('c', 'e', 6)\n",
    "graph.addEdge('d', 'e', 7)\n",
    "graph.addEdge('e', 'a', 8)\n",
    "print(graph.printMatrix())\n",
    "print(graph.getEdges()) "
   ]
  },
  {
   "cell_type": "code",
   "execution_count": 4,
   "metadata": {},
   "outputs": [
    {
     "data": {
      "text/plain": [
       "['b', 'c']"
      ]
     },
     "execution_count": 4,
     "metadata": {},
     "output_type": "execute_result"
    }
   ],
   "source": [
    "graph.getNeighbors('a')"
   ]
  },
  {
   "cell_type": "code",
   "execution_count": 5,
   "metadata": {},
   "outputs": [
    {
     "data": {
      "text/plain": [
       "False"
      ]
     },
     "execution_count": 5,
     "metadata": {},
     "output_type": "execute_result"
    }
   ],
   "source": [
    "graph.isConnected('a','e')"
   ]
  },
  {
   "cell_type": "code",
   "execution_count": 6,
   "metadata": {},
   "outputs": [
    {
     "name": "stdout",
     "output_type": "stream",
     "text": [
      "['b', 'c']\n"
     ]
    },
    {
     "data": {
      "text/plain": [
       "['e', 'd']"
      ]
     },
     "execution_count": 6,
     "metadata": {},
     "output_type": "execute_result"
    }
   ],
   "source": [
    "graph.get2Hops('a')"
   ]
  },
  {
   "cell_type": "code",
   "execution_count": 7,
   "metadata": {},
   "outputs": [
    {
     "name": "stdout",
     "output_type": "stream",
     "text": [
      "['/', '/', '20', '/', '10']\n",
      "['/', '/', '30', '/', '40']\n",
      "['20', '30', '/', '/', '/']\n",
      "['/', '/', '/', '/', '50']\n",
      "['10', '40', '/', '50', '/']\n",
      "None\n",
      "[('a', 'c', 20), ('a', 'e', 10), ('b', 'c', 30), ('b', 'e', 40), ('c', 'a', 20), ('c', 'b', 30), ('d', 'e', 50), ('e', 'a', 10), ('e', 'b', 40), ('e', 'd', 50)]\n"
     ]
    }
   ],
   "source": [
    "G = Graph(5)\n",
    "G.addVertex(0, 'a')\n",
    "G.addVertex(1, 'b')\n",
    "G.addVertex(2, 'c')\n",
    "G.addVertex(3, 'd')\n",
    "G.addVertex(4, 'e')\n",
    "G.addEdge('a', 'e', 10)  \n",
    "G.addEdge('a', 'c', 20)\n",
    "G.addEdge('c', 'b', 30)\n",
    "G.addEdge('b', 'e', 40)\n",
    "G.addEdge('e', 'd', 50)\n",
    "G.addEdge('f', 'e', 60)\n",
    "print(G.printMatrix())\n",
    "print(G.getEdges()) "
   ]
  },
  {
   "cell_type": "code",
   "execution_count": null,
   "metadata": {},
   "outputs": [],
   "source": []
  },
  {
   "cell_type": "markdown",
   "metadata": {},
   "source": [
    "### 2.邻接表实现图"
   ]
  },
  {
   "cell_type": "code",
   "execution_count": 18,
   "metadata": {},
   "outputs": [],
   "source": [
    "import sys\n",
    "class Vertex:\n",
    "    def __init__(self, node):\n",
    "        self.id = node # 当前顶点的名字\n",
    "        self.adj = {}  # 记录相邻顶点, key:顶点，value: weight\n",
    "        self.distence = sys.maxsize\n",
    "        self.visited = False\n",
    "        self.prev = None\n",
    "    \n",
    "    def add_nbr(self, nbr, weight=0):\n",
    "        self.adj[nbr] = weight\n",
    "    \n",
    "    def get_nbrs(self):\n",
    "        return self.adj.keys()\n",
    "    \n",
    "    def get_vertex_id(self):\n",
    "        return self.id\n",
    "\n",
    "    def get_weight(self, nbr):\n",
    "        return self.adj[nbr]\n",
    "    \n",
    "    def set_distence(self, dist):\n",
    "        self.distence = dist\n",
    "    \n",
    "    def get_distence(self):\n",
    "        return self.distence\n",
    "    \n",
    "    \n",
    "    def set_prev(self, prev):\n",
    "        self.prev = prev\n",
    "    \n",
    "    \n",
    "    def set_visited(self):\n",
    "        self.visited = True\n",
    "    \n",
    "    def __str__(self):\n",
    "        return str(self.id) + ' adj: ' + str([x.id for x in self.adj])\n",
    "    \n",
    "    def __lt__(self, other):\n",
    "        return self.distence < other.distence and self.id < other.id\n",
    "\n",
    "\n",
    "class Graph:\n",
    "    def __init__(self, directed=False):\n",
    "        self.vert_dict = {}  # key：顶点名称，value：该顶点\n",
    "        self.vert_nums = 0\n",
    "        self.directed = directed\n",
    "    \n",
    "    def __iter__(self):\n",
    "        return iter(self.vert_dict.values())\n",
    "    \n",
    "    def id_directed(self):\n",
    "        return self.directed\n",
    "    \n",
    "    def get_vert_nums(self):\n",
    "        return self.vert_nums\n",
    "    \n",
    "    # 添加顶点\n",
    "    def add_vertex(self, node):\n",
    "        self.vert_nums += 1\n",
    "        new_vert = Vertex(node)\n",
    "        self.vert_dict[node] = new_vert\n",
    "        return new_vert\n",
    "    \n",
    "    # 获得指定的顶点\n",
    "    def get_vertex(self, node):\n",
    "        if node in self.vert_dict:\n",
    "            return self.vert_dict[node]\n",
    "        else:\n",
    "            return None\n",
    "        \n",
    "    # 获得所有顶点 \n",
    "    def get_all_vertex(self):\n",
    "        return self.vert_dict.keys()\n",
    "    \n",
    "    def add_edges(self, frm, to, weight=0):\n",
    "        if frm not in self.vert_dict:\n",
    "            self.add_vertex(frm)\n",
    "        if to not in self.vert_dict:\n",
    "            self.add_vertex(to)\n",
    "        self.vert_dict[frm].add_nbr(self.vert_dict[to], weight)\n",
    "        # 如果无向则互相添加\n",
    "        if not self.directed:\n",
    "            self.vert_dict[to].add_nbr(self.vert_dict[frm], weight)\n",
    "    \n",
    "    # 获得所有的边\n",
    "    def get_edges(self):\n",
    "        edges = []\n",
    "        for node, vert in self.vert_dict.items():\n",
    "            for nbr in vert.get_nbrs():\n",
    "                vert_id = vert.get_vertex_id()\n",
    "                nbr_id = nbr.get_vertex_id()\n",
    "                edges.append((vert_id, nbr_id, vert.get_weight(nbr)))\n",
    "        return edges\n",
    "    \n",
    "    def set_prev(self, cur):\n",
    "        self.prev = cur\n",
    "    \n",
    "    def get_prev(self):\n",
    "        return self.prev\n",
    "    \n",
    "    # 获得的当前顶点的nbrs\n",
    "    def get_nbrs(self, node):\n",
    "        vert = self.vert_dict[node]\n",
    "        return vert.get_nbrs()"
   ]
  },
  {
   "cell_type": "code",
   "execution_count": 19,
   "metadata": {},
   "outputs": [
    {
     "name": "stdout",
     "output_type": "stream",
     "text": [
      "[('a', 'b', 1), ('a', 'c', 1), ('b', 'd', 1), ('b', 'e', 1), ('c', 'd', 1), ('c', 'e', 1), ('d', 'e', 1), ('e', 'a', 1)]\n",
      "('a', 'b', 1)\n",
      "('a', 'c', 1)\n",
      "('b', 'd', 1)\n",
      "('b', 'e', 1)\n",
      "('c', 'd', 1)\n",
      "('c', 'e', 1)\n",
      "('d', 'e', 1)\n",
      "('e', 'a', 1)\n",
      "a 的nbr是: a adj: ['b', 'c']\n",
      "b 的nbr是: b adj: ['d', 'e']\n",
      "c 的nbr是: c adj: ['d', 'e']\n",
      "d 的nbr是: d adj: ['e']\n",
      "e 的nbr是: e adj: ['a']\n",
      "f 的nbr是: f adj: []\n",
      "b adj: ['d', 'e']\n",
      "c adj: ['d', 'e']\n"
     ]
    }
   ],
   "source": [
    "G = Graph(True)\n",
    "# 添加6个顶点\n",
    "G.add_vertex('a')\n",
    "G.add_vertex('b')\n",
    "G.add_vertex('c')\n",
    "G.add_vertex('d')\n",
    "G.add_vertex('e')\n",
    "G.add_vertex('f')\n",
    "# 添加边\n",
    "G.add_edges('a', 'b', 1)  \n",
    "G.add_edges('a', 'c', 1)\n",
    "G.add_edges('b', 'd', 1)\n",
    "G.add_edges('b', 'e', 1)\n",
    "G.add_edges('c', 'd', 1)\n",
    "G.add_edges('c', 'e', 1)\n",
    "G.add_edges('d', 'e', 1)\n",
    "G.add_edges('e', 'a', 1)\n",
    "\n",
    "print (G.get_edges())\n",
    "for k in G.get_edges():\n",
    "    print(k)\n",
    "\n",
    "for vert in G.vert_dict:\n",
    "    print(vert, '的nbr是:', G.vert_dict[vert])\n",
    "    \n",
    "v = 'a'\n",
    "nbr = G.get_nbrs(v)\n",
    "for n in nbr:\n",
    "    print(n)"
   ]
  },
  {
   "cell_type": "code",
   "execution_count": 12,
   "metadata": {},
   "outputs": [],
   "source": [
    "def graphFromEdgelist(E, directed=False):\n",
    "    \"\"\"Make a graph instance based on a sequence of edge tuples.\n",
    "    Edges can be either of from (origin,destination) or\n",
    "    (origin,destination,element). Vertex set is presume to be those\n",
    "    incident to at least one edge.\n",
    "    vertex labels are assumed to be hashable.\n",
    "    \"\"\"\n",
    "    g = Graph(directed)\n",
    "    V = set()\n",
    "    for e in E:\n",
    "        V.add(e[0])\n",
    "        V.add(e[1])\n",
    "        \n",
    "    print(\"Vertex: \", V)\n",
    "\n",
    "    verts = {}  # map from vertex label to Vertex instance\n",
    "    for v in V:\n",
    "        verts[v] = g.addVertex(v)\n",
    "    print(g.vectexCount())\n",
    "\n",
    "    for e in E:\n",
    "        src = e[0]\n",
    "        dest = e[1]\n",
    "        cost = e[2] if len(e) > 2 else None\n",
    "        g.addEdge(src, dest, cost)\n",
    "    return g"
   ]
  },
  {
   "cell_type": "code",
   "execution_count": 13,
   "metadata": {},
   "outputs": [
    {
     "name": "stdout",
     "output_type": "stream",
     "text": [
      "Vertex:  {'B', 'A', 'C'}\n",
      "3\n",
      "('A', 'B', 1)\n",
      "('A', 'C', 1)\n"
     ]
    }
   ],
   "source": [
    "E2 = (\n",
    "('A','B', 1), ('A','C', 1),\n",
    ")\n",
    "graph = graphFromEdgelist(E2, True)\n",
    "for k in graph.getEdges():\n",
    "    print(k)"
   ]
  },
  {
   "cell_type": "code",
   "execution_count": 14,
   "metadata": {},
   "outputs": [
    {
     "name": "stdout",
     "output_type": "stream",
     "text": [
      "Vertex:  {'ORD', 'LAX', 'SFO', 'JFK', 'DFW', 'BOS', 'MIA'}\n",
      "7\n",
      "('ORD', 'BOS', 867)\n",
      "('ORD', 'JFK', 740)\n",
      "('LAX', 'DFW', 1235)\n",
      "('LAX', 'MIA', 2342)\n",
      "('SFO', 'LAX', 337)\n",
      "('SFO', 'BOS', 2704)\n",
      "('SFO', 'ORD', 1846)\n",
      "('SFO', 'DFW', 1464)\n",
      "('JFK', 'BOS', 187)\n",
      "('DFW', 'ORD', 802)\n",
      "('DFW', 'MIA', 1121)\n",
      "('MIA', 'JFK', 1090)\n",
      "('MIA', 'BOS', 1258)\n",
      "ORD\n",
      "LAX\n",
      "SFO\n",
      "JFK\n",
      "DFW\n",
      "BOS\n",
      "MIA\n"
     ]
    }
   ],
   "source": [
    "E = (\n",
    "('SFO', 'LAX', 337), ('SFO', 'BOS', 2704), ('SFO', 'ORD', 1846),\n",
    "('SFO', 'DFW', 1464), ('LAX', 'DFW', 1235), ('LAX', 'MIA', 2342),\n",
    "('DFW', 'ORD', 802), ('DFW', 'MIA', 1121), ('ORD', 'BOS', 867),\n",
    "('ORD', 'JFK', 740), ('MIA', 'JFK', 1090), ('MIA', 'BOS', 1258), \n",
    "('JFK', 'BOS', 187),\n",
    ")\n",
    "graph = graphFromEdgelist(E, True)\n",
    "for e in graph.getEdges():\n",
    "    print(e)\n",
    "\n",
    "for m in graph.getVertices():\n",
    "    print(m)"
   ]
  },
  {
   "cell_type": "code",
   "execution_count": null,
   "metadata": {},
   "outputs": [],
   "source": []
  },
  {
   "cell_type": "markdown",
   "metadata": {},
   "source": [
    "### 图的遍历\n",
    "图的遍历指的是从图中的任一顶点出发，对图中的所有顶点访问一次且只访问一次。图的遍历操作和树的遍历操作功能相似。图的遍历是图的一种基本操作，图的许多其它操作都是建立在遍历操作的基础之上\n",
    "根据访问节点顺序，有两种图遍历方法，为深度优先遍历（DFS）和广度优先遍历（BFS）"
   ]
  },
  {
   "cell_type": "markdown",
   "metadata": {},
   "source": [
    "### DFS\n",
    "算法思想：\n",
    "从某个点一直往深处走，走到不能往下走之后，就回退到上一步，直到把所有点走完"
   ]
  },
  {
   "cell_type": "code",
   "execution_count": 20,
   "metadata": {},
   "outputs": [
    {
     "name": "stdout",
     "output_type": "stream",
     "text": [
      "traversal: a\n",
      "traversal: b\n",
      "traversal: d\n",
      "traversal: e\n",
      "traversal: c\n",
      "traversal: f\n"
     ]
    }
   ],
   "source": [
    "def dfs(G, vert, visited):\n",
    "    visited[vert] = True\n",
    "    print('traversal: ' + vert.get_vertex_id())\n",
    "    for nbr in vert.get_nbrs():\n",
    "        if nbr not in visited:\n",
    "            dfs(G, nbr, visited)\n",
    "    return\n",
    "\n",
    "def DFSTraversal(G):\n",
    "    visited = {}\n",
    "    # 遍历图的顶点, 图的__iter__属性\n",
    "    for vert in G:\n",
    "        if vert not in visited:\n",
    "            dfs(G, vert, visited)\n",
    "            \n",
    "DFSTraversal(G)"
   ]
  },
  {
   "cell_type": "code",
   "execution_count": 21,
   "metadata": {},
   "outputs": [
    {
     "name": "stdout",
     "output_type": "stream",
     "text": [
      "traversal: e\n",
      "traversal: a\n",
      "traversal: b\n",
      "traversal: d\n",
      "traversal: c\n"
     ]
    }
   ],
   "source": [
    "# 只遍历当前顶点的相连\n",
    "visited = {}\n",
    "v = G.get_vertex('e')\n",
    "dfs(G, v, visited)"
   ]
  },
  {
   "cell_type": "code",
   "execution_count": 23,
   "metadata": {},
   "outputs": [],
   "source": [
    "def dfsIterative(G, start, dest):\n",
    "    stack = [] # vertex\n",
    "    visited = set() # vertex id\n",
    "    parent = {} # vertex id\n",
    "    stack.append(start)\n",
    "    while len(stack) != 0:\n",
    "        curr = stack.pop() # vertex\n",
    "        print(\"visiting \", curr.getVertexID())\n",
    "        if (curr.getVertexID() == dest.getVertexID()):\n",
    "            return parent\n",
    "        neighbors = G.getNeighbors(curr.getVertexID())\n",
    "        for n in neighbors:\n",
    "            id = n.getVertexID()\n",
    "            visited.add(id)\n",
    "            parent[id] = curr.getVertexID()\n",
    "            stack.append(n)\n",
    "    return None"
   ]
  },
  {
   "cell_type": "code",
   "execution_count": 24,
   "metadata": {},
   "outputs": [
    {
     "name": "stdout",
     "output_type": "stream",
     "text": [
      "visiting  a\n",
      "visiting  f\n",
      "visiting  c\n",
      "visiting  e\n",
      "{'b': 'a', 'c': 'a', 'f': 'a', 'd': 'c', 'e': 'c'}\n"
     ]
    }
   ],
   "source": [
    "start = G.getVertex('a')\n",
    "dest = G.getVertex('e')\n",
    "parent = dfsIterative(G, start, dest)\n",
    "print(parent)"
   ]
  },
  {
   "cell_type": "code",
   "execution_count": null,
   "metadata": {},
   "outputs": [],
   "source": []
  },
  {
   "cell_type": "markdown",
   "metadata": {},
   "source": [
    "### BFS\n",
    "算法思想\n",
    "从某个点一直把其邻接点走完，然后任选一个邻接点把与之邻接的未被遍历的点走完，如此反复走完所有结点。类似于树的层序遍历\n",
    "\n",
    "算法步骤（用队列实现）\n",
    "访问指定起始点\n",
    "访问当前顶点的邻接顶点有未被访问的顶点，并将之放入队列中。\n",
    "删除队列的队首节点。访问当前队列的队首，重复步骤2。直到队列为空。\n",
    "若途中还有顶点未被访问，则再选一个点作为起始顶点。重复步骤2。（针对非连通图）"
   ]
  },
  {
   "cell_type": "code",
   "execution_count": 22,
   "metadata": {},
   "outputs": [],
   "source": [
    "from collections import deque\n",
    "\n",
    "# 从start开始，dest结束\n",
    "def bfs(G, start, dest):\n",
    "    queue = deque()\n",
    "    visited = set()\n",
    "    parent = {}\n",
    "    queue.append(start)\n",
    "    while len(queue) != 0:\n",
    "        cur = queue.popleft()\n",
    "        print('traversal: ', cur.get_vertex_id()) \n",
    "        if (cur.get_vertex_id() == dest.get_vertex_id()):\n",
    "            return parent\n",
    "        nbrs = G.get_nbrs(cur.get_vertex_id())\n",
    "        for n in nbrs:\n",
    "            n_id = n.get_vertex_id()\n",
    "            visited.add(n_id)\n",
    "            parent[n_id] = cur.get_vertex_id()\n",
    "            queue.append(n)\n",
    "    return Nonelinjiebiam"
   ]
  },
  {
   "cell_type": "code",
   "execution_count": 23,
   "metadata": {},
   "outputs": [
    {
     "name": "stdout",
     "output_type": "stream",
     "text": [
      "traversal:  a\n",
      "traversal:  b\n",
      "traversal:  c\n",
      "traversal:  d\n",
      "traversal:  e\n",
      "{'b': 'a', 'c': 'a', 'd': 'c', 'e': 'd'}\n"
     ]
    }
   ],
   "source": [
    "start = G.get_vertex('a')\n",
    "dest = G.get_vertex('e')\n",
    "parent = bfs(G, start, dest)\n",
    "print(parent)"
   ]
  },
  {
   "cell_type": "code",
   "execution_count": 24,
   "metadata": {},
   "outputs": [
    {
     "name": "stdout",
     "output_type": "stream",
     "text": [
      "[('a', 'b', 1), ('a', 'c', 1), ('a', 'd', 1), ('d', 'e', 1), ('e', 'f', 1)]\n",
      "('a', 'b', 1)\n",
      "('a', 'c', 1)\n",
      "('a', 'd', 1)\n",
      "('d', 'e', 1)\n",
      "('e', 'f', 1)\n"
     ]
    }
   ],
   "source": [
    "G = Graph(True)\n",
    "G.add_vertex('a')\n",
    "G.add_vertex('b')\n",
    "G.add_vertex('c')\n",
    "G.add_vertex('d')\n",
    "G.add_vertex('e')\n",
    "G.add_vertex('f')\n",
    "G.add_edges('a', 'b', 1)  \n",
    "G.add_edges('a', 'c', 1)\n",
    "G.add_edges('a', 'd', 1)\n",
    "G.add_edges('d', 'e', 1)\n",
    "G.add_edges('e', 'f', 1)\n",
    "print (G.get_edges())\n",
    "for k in G.get_edges():\n",
    "    print(k)"
   ]
  },
  {
   "cell_type": "code",
   "execution_count": 25,
   "metadata": {},
   "outputs": [
    {
     "name": "stdout",
     "output_type": "stream",
     "text": [
      "traversal:  a\n",
      "traversal:  b\n",
      "traversal:  c\n",
      "traversal:  d\n",
      "traversal:  e\n",
      "traversal:  f\n",
      "{'b': 'a', 'c': 'a', 'd': 'a', 'e': 'd', 'f': 'e'}\n"
     ]
    }
   ],
   "source": [
    "start = G.get_vertex('a')\n",
    "dest = G.get_vertex('f')\n",
    "parent = bfs(G, start, dest)\n",
    "print(parent)"
   ]
  },
  {
   "cell_type": "code",
   "execution_count": null,
   "metadata": {},
   "outputs": [],
   "source": []
  }
 ],
 "metadata": {
  "kernelspec": {
   "display_name": "Python 3",
   "language": "python",
   "name": "python3"
  },
  "language_info": {
   "codemirror_mode": {
    "name": "ipython",
    "version": 3
   },
   "file_extension": ".py",
   "mimetype": "text/x-python",
   "name": "python",
   "nbconvert_exporter": "python",
   "pygments_lexer": "ipython3",
   "version": "3.8.5"
  }
 },
 "nbformat": 4,
 "nbformat_minor": 2
}
