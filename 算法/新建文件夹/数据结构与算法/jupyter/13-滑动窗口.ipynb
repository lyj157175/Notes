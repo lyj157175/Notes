{
 "cells": [
  {
   "cell_type": "code",
   "execution_count": 12,
   "metadata": {},
   "outputs": [],
   "source": [
    "# 从排序数组中删除重复数，并返回数组长度\n",
    "def del_same_num(nums):\n",
    "    if not nums:\n",
    "        return None\n",
    "    temp = []\n",
    "    for i in nums:\n",
    "        if i not in temp:\n",
    "            temp.append(i)\n",
    "    return len(temp)\n",
    "\n",
    "\n",
    "def del_same_num2(nums):\n",
    "    if not nums:\n",
    "        return None\n",
    "    tail = 0\n",
    "    for i in range(1, len(nums)):\n",
    "        if nums[i] != nums[tail]:\n",
    "            tail += 1\n",
    "            nums[tail] = nums[i]\n",
    "    return tail + 1"
   ]
  },
  {
   "cell_type": "code",
   "execution_count": 13,
   "metadata": {},
   "outputs": [
    {
     "data": {
      "text/plain": [
       "5"
      ]
     },
     "execution_count": 13,
     "metadata": {},
     "output_type": "execute_result"
    }
   ],
   "source": [
    "a = [1,2,3,4,5,5,5,5,5]\n",
    "del_same_num2(a)"
   ]
  },
  {
   "cell_type": "code",
   "execution_count": 19,
   "metadata": {},
   "outputs": [
    {
     "data": {
      "text/plain": [
       "8"
      ]
     },
     "execution_count": 19,
     "metadata": {},
     "output_type": "execute_result"
    }
   ],
   "source": [
    "# 给定一个排序数组，你需要在原地删除重复出现的元素，使得每个元素最多出现2次，返回移除后数组的新长度\n",
    "def del_same_two_nums(nums):\n",
    "    res = {}\n",
    "    for i in nums:\n",
    "        if i not in res:\n",
    "            res[i] = 1\n",
    "        else:\n",
    "            if res[i] == 1:\n",
    "                res[i] = 2\n",
    "            else:\n",
    "                continue\n",
    "    return sum([value for key, value in res.items()])\n",
    "\n",
    "nums = [1,2,2,2,3,5,6,7,7]\n",
    "del_same_two_nums(nums)"
   ]
  },
  {
   "cell_type": "code",
   "execution_count": 23,
   "metadata": {},
   "outputs": [
    {
     "data": {
      "text/plain": [
       "2"
      ]
     },
     "execution_count": 23,
     "metadata": {},
     "output_type": "execute_result"
    }
   ],
   "source": [
    "# 给一个数组和一个值，直接删除所有的这个值，并返回新长度\n",
    "# 思路：不同就向后移动，相同就不移动\n",
    "def del_val(nums, target):\n",
    "    tail = 0\n",
    "    for k in range(len(nums)):\n",
    "        if nums[k] != target:\n",
    "            nums[tail] = nums[k]\n",
    "            tail += 1\n",
    "    return tail\n",
    "\n",
    "nums = [ 3, 2, 2, 3 ]\n",
    "del_val(nums, 3)"
   ]
  },
  {
   "cell_type": "code",
   "execution_count": 24,
   "metadata": {},
   "outputs": [
    {
     "data": {
      "text/plain": [
       "12.75"
      ]
     },
     "execution_count": 24,
     "metadata": {},
     "output_type": "execute_result"
    }
   ],
   "source": [
    "# 最大均值子数组\n",
    "# 给定一个包含n个整数的数组，找到长度为k的平均值最大的连续子数组。你需要输出这个最大平均值\n",
    "# 假设1 <= k <= n \n",
    "# 思路：该题属于滑动窗口，不断的新增窗口，并打破窗口，判断当前累加值和历史最大值的大小。\n",
    "def max_mean_subarray(nums, k):\n",
    "    sum_k = 0\n",
    "    for i in range(k):\n",
    "        sum_k += nums[i]\n",
    "    for j in range(k, len(nums)):\n",
    "        res = sum_k + nums[j] - nums[j-k]\n",
    "        if res > sum_k:\n",
    "            sum_k = res\n",
    "    return sum_k / k\n",
    "\n",
    "nums = [ 1, 12, -5, -6, 50, 3 ]\n",
    "max_mean_subarray(nums, 4)"
   ]
  },
  {
   "cell_type": "code",
   "execution_count": 25,
   "metadata": {},
   "outputs": [
    {
     "data": {
      "text/plain": [
       "3"
      ]
     },
     "execution_count": 25,
     "metadata": {},
     "output_type": "execute_result"
    }
   ],
   "source": [
    "# 最长连续递增子序列\n",
    "# 给定一个没排序的整数数组，找到最长的连续递增的子序列（子数组）的长度\n",
    "def find_max_sublength(nums):\n",
    "    if not nums:\n",
    "        return 0\n",
    "    count = 1\n",
    "    max_length = 1\n",
    "    for i in range(1, len(nums)):\n",
    "        if nums[i] > nums[i-1]:\n",
    "            count += 1\n",
    "            max_length = max(max_length, count)\n",
    "        else:\n",
    "            count = 1\n",
    "    return max_length\n",
    "\n",
    "nums = [1,3,5,4,7]\n",
    "find_max_sublength(nums)"
   ]
  },
  {
   "cell_type": "code",
   "execution_count": 33,
   "metadata": {},
   "outputs": [
    {
     "data": {
      "text/plain": [
       "2"
      ]
     },
     "execution_count": 33,
     "metadata": {},
     "output_type": "execute_result"
    }
   ],
   "source": [
    "# 最短子数组之和\n",
    "# 给定一个包含n个正整数的数组和一个正整数s，找到一个长度最小的连续\n",
    "# 子数组，这个子数组的元素和≥ s。如果没有，则返回0.\n",
    "# 给定数组 [2,3,1,2,4,3] ，s = 7\n",
    "# 则 [4,3]是最短的满足题目需求的子数组\n",
    "\n",
    "# 两个指针，start和end。end向后走直到sum大于s。然后start向后，直到sum小于s。同时更新min值\n",
    "import sys\n",
    "\n",
    "def find_min_sub(nums, s):\n",
    "    end, start = 0, 0\n",
    "    sums = 0\n",
    "    min_length = sys.maxsize   # 保存最大长度\n",
    "    while end < len(nums):\n",
    "        sums += nums[end]\n",
    "        end += 1\n",
    "        while sums >= s:\n",
    "            min_length = min(min_length, end-start)\n",
    "            sums -= nums[start]\n",
    "            start += 1\n",
    "    return 0 if min == sys.maxsize else min_length\n",
    "\n",
    "num = [2,3,1,2,4,3] \n",
    "s = 7\n",
    "find_min_sub(num, s)      "
   ]
  },
  {
   "cell_type": "code",
   "execution_count": null,
   "metadata": {},
   "outputs": [],
   "source": [
    "# 实现strStr()函数，返回子字符串needle在字符串haystack中第一次出现的位置，如果没有找到则返回-1 \n",
    "def strStr(all_str, sub_str):\n",
    "    if not all_str:\n",
    "        return -1\n",
    "    "
   ]
  }
 ],
 "metadata": {
  "kernelspec": {
   "display_name": "Python 3.7.4 64-bit ('base': conda)",
   "language": "python",
   "name": "python37464bitbasecondac1ed852f726f46e99aa9eda212d43d36"
  },
  "language_info": {
   "codemirror_mode": {
    "name": "ipython",
    "version": 3
   },
   "file_extension": ".py",
   "mimetype": "text/x-python",
   "name": "python",
   "nbconvert_exporter": "python",
   "pygments_lexer": "ipython3",
   "version": "3.7.4"
  }
 },
 "nbformat": 4,
 "nbformat_minor": 2
}
