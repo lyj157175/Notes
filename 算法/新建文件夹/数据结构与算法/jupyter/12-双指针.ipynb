{
 "cells": [
  {
   "cell_type": "code",
   "execution_count": 1,
   "metadata": {},
   "outputs": [],
   "source": [
    "# 翻转一个list\n",
    "def reverse_list(nums):\n",
    "    n = len(nums)\n",
    "    for i in range(len(nums) // 2):\n",
    "         nums[i], nums[n-i-1] = nums[n-i-1], nums[i]\n",
    "    return nums\n",
    "\n",
    "def reverse_list2(nums):\n",
    "    i, j = 0, len(nums)-1\n",
    "    while i < j:\n",
    "        nums[i], nums[j] = nums[j], nums[i]\n",
    "        i += 1\n",
    "        j -= 1\n",
    "    return nums"
   ]
  },
  {
   "cell_type": "code",
   "execution_count": 10,
   "metadata": {},
   "outputs": [
    {
     "name": "stdout",
     "output_type": "stream",
     "text": [
      "(0, 6)\n"
     ]
    }
   ],
   "source": [
    "# 给定一个整数数组，找到两个数的值正好等于给定的目标值\n",
    "def find_two_nums(nums, target):\n",
    "    nums_sort = nums[:]\n",
    "    nums_sort.sort()\n",
    "    i, j = 0, len(nums)-1\n",
    "    res = []\n",
    "    while i < j:\n",
    "        if nums_sort[i] + nums_sort[j] == target:\n",
    "            for k in range(len(nums)):\n",
    "                if nums[k] == nums_sort[i]:\n",
    "                    res.append(k)\n",
    "                    break\n",
    "            for k in range(len(nums)-1, -1, -1):\n",
    "                if nums[k] == nums_sort[j]:\n",
    "                    res.append(k)\n",
    "                    break\n",
    "            res.sort()\n",
    "            break\n",
    "        elif nums_sort[i] + nums_sort[j] < target:\n",
    "            i += 1\n",
    "        elif nums_sort[i] + nums_sort[j] > target:\n",
    "            j -= 1\n",
    "    return res\n",
    "\n",
    "\n",
    "\n",
    "\n",
    "def find_two_nums2(nums, target):\n",
    "    dic = {}\n",
    "    for i, num in enumerate(nums):\n",
    "        if num in dic:\n",
    "            return(dic[num], i)\n",
    "        else:\n",
    "            dic[target - num] = i\n",
    "\n",
    "num = [1,2,3,4,5,6,11, 15]\n",
    "target = 12\n",
    "print(find_two_nums2(num, target))"
   ]
  },
  {
   "cell_type": "code",
   "execution_count": null,
   "metadata": {},
   "outputs": [],
   "source": [
    "# 三数求和\n",
    "# 在一个有n个整数的数组S中，要求找出三个数（a,b,c）相加等于0的组合，并且结果中不能包含重复的组合。\n",
    "def find_tree_num(s):\n",
    "    "
   ]
  }
 ],
 "metadata": {
  "kernelspec": {
   "display_name": "Python 3.7.4 64-bit ('base': conda)",
   "language": "python",
   "name": "python37464bitbasecondac1ed852f726f46e99aa9eda212d43d36"
  },
  "language_info": {
   "codemirror_mode": {
    "name": "ipython",
    "version": 3
   },
   "file_extension": ".py",
   "mimetype": "text/x-python",
   "name": "python",
   "nbconvert_exporter": "python",
   "pygments_lexer": "ipython3",
   "version": "3.7.4"
  }
 },
 "nbformat": 4,
 "nbformat_minor": 2
}
