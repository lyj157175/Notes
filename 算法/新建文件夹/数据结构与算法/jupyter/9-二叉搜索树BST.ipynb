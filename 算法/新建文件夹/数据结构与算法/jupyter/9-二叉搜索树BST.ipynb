{
 "cells": [
  {
   "cell_type": "markdown",
   "metadata": {},
   "source": [
    "### 二叉送搜索树BST\n",
    "根节点的值大于其左子树中任意一个节点的值，小于其右节点中任意一节点的值，这一规则适用于二叉查找树中的每一个节点\n",
    "\n",
    "平衡二叉树（Balanced Binary Tree）又被称为AVL树（有别于AVL算法），且具有以下性质：\n",
    "它是一 棵空树或它的左右两个子树的高度差的绝对值不超过1，并且左右两个子树都是一棵平衡二叉树。这个方案很好的解决了二叉查找树退化成链表的问题，把插入，查找，删除的时间复杂度最好情况和最坏情况都维持在O(logN)。但是频繁旋转会使插入和删除牺牲掉O(logN)左右的时间，不过相对二叉查找树来说，时间上稳定了很多。\n",
    "\n",
    "技巧：\n",
    "树的实现需要借助辅助函数，以便不断的更新不同的node节点"
   ]
  },
  {
   "cell_type": "code",
   "execution_count": 2,
   "metadata": {},
   "outputs": [],
   "source": [
    "class Node:\n",
    "    \n",
    "    def __init__(self, item, left=None, right=None):\n",
    "        self.item = item\n",
    "        self.left = left\n",
    "        self.right = right\n",
    "\n",
    "class BinarySearchTree:\n",
    "    \n",
    "    def __init__(self, root=None):\n",
    "        self.root = root\n",
    "    \n",
    "    def get(self, key):\n",
    "        return self._get(self.root, key)\n",
    "    \n",
    "    def _get(self, node, key):\n",
    "        if node is None:\n",
    "            return None\n",
    "        if key < node.item:\n",
    "            return self._get(node.left, key)\n",
    "        elif key > node.item:\n",
    "            return self._get(node.right, key)\n",
    "        else:\n",
    "            return node\n",
    "    \n",
    "    def add(self, key):\n",
    "        self.root = self._add(self.root, key)\n",
    "    \n",
    "    def _add(self, node, key):\n",
    "        if node is None:\n",
    "            return Node(key)\n",
    "        \n",
    "        if key == node.item:\n",
    "            pass\n",
    "        else:\n",
    "            if key < node.item:\n",
    "                node.left = self._add(node.left, key)\n",
    "            else:\n",
    "                node.right = self._add(node.right, key)\n",
    "        return node\n",
    "    \n",
    "    def remove(self, key):\n",
    "        self.root = self._remove(self.root, key)\n",
    "    \n",
    "    # 三种节点的情况\n",
    "    # 1.叶子节点直接删除\n",
    "    # 2.若该节点，有一个子节点，左或是右。直接令祖父节点指向孙子节点\n",
    "    # 3.若该节点有两个子节点，删除策略是用其右子树的最小结点代替待删除结点的数据，并将右子树的最小节点删除\n",
    "    def _remove(self, node, key):\n",
    "        if node is None:\n",
    "            return None\n",
    "        if key < node.item:\n",
    "            node.right = self._remove(node.left, key)\n",
    "        elif key > node.item:\n",
    "            node.right = self._remove(node.right, key)\n",
    "        else:\n",
    "            if node.left is None:\n",
    "                node = node.right\n",
    "            elif node.right is None:\n",
    "                node = node.left\n",
    "            else:\n",
    "                node.item = self._getmax(node.left)\n",
    "                node.left = self._remove(node.left, node.item)\n",
    "        return node \n",
    "      \n",
    "    def get_min(self):\n",
    "        return self._get_min(self.root)\n",
    "    \n",
    "    def _get_max(self, node):\n",
    "        if node is None:\n",
    "            return None\n",
    "        while node.left is not None:\n",
    "            node = node.left\n",
    "        return node.item\n",
    "    \n",
    "    def print_inorder(self):\n",
    "        self._print_inorder(self.root)\n",
    "        print('')\n",
    "    \n",
    "    def _print_inorder(self, node):\n",
    "        if node is None:\n",
    "            return \n",
    "        self._print_inorder(node.left)\n",
    "        print(node.item, end=' ')\n",
    "        self._print_inorder(node.right)\n",
    "    \n",
    "    def print_preorder(self):\n",
    "        self._print_preorder(self.root)\n",
    "        print('')\n",
    "    \n",
    "    def _print_preorder(self, node):\n",
    "        if node is None:\n",
    "            return \n",
    "        \n",
    "        print(node.item, end=' ')\n",
    "        self._print_preorder(node.left)\n",
    "        self._print_preorder(node.right)\n",
    "    \n",
    "    def print_postorder(self):\n",
    "        self._print_postorder(self.root)\n",
    "        print('')\n",
    "    \n",
    "    def _print_postorder(self, node):\n",
    "        if node is None:\n",
    "            return \n",
    "        self._print_postorder(node.left)\n",
    "        self._print_postorder(node.right)\n",
    "        print(node.item, end=' ')"
   ]
  },
  {
   "cell_type": "code",
   "execution_count": 3,
   "metadata": {},
   "outputs": [
    {
     "name": "stdout",
     "output_type": "stream",
     "text": [
      "1 2 3 4 5 6 7 8 9 10 11 12 13 \n",
      "1 3 2 5 4 7 10 12 11 13 9 8 6 \n",
      "6 4 2 1 3 5 8 7 9 13 11 10 12 \n"
     ]
    }
   ],
   "source": [
    "bst = BinarySearchTree()\n",
    "numbers = [6, 4, 8, 7, 9, 2, 1, 3, 5, 13, 11, 10, 12]\n",
    "for i in numbers:\n",
    "    bst.add(i)\n",
    "bst.print_inorder()\n",
    "bst.print_postorder()\n",
    "bst.print_preorder()"
   ]
  },
  {
   "cell_type": "code",
   "execution_count": null,
   "metadata": {},
   "outputs": [],
   "source": []
  },
  {
   "cell_type": "markdown",
   "metadata": {},
   "source": [
    "### 练习题"
   ]
  },
  {
   "cell_type": "code",
   "execution_count": 4,
   "metadata": {},
   "outputs": [
    {
     "name": "stdout",
     "output_type": "stream",
     "text": [
      "1 2 3 4 5 6 7 8 9 10 11 12 13 \n"
     ]
    },
    {
     "data": {
      "text/plain": [
       "13"
      ]
     },
     "execution_count": 4,
     "metadata": {},
     "output_type": "execute_result"
    }
   ],
   "source": [
    "# 1.树的大小\n",
    "class tree1(BinarySearchTree):\n",
    "    \n",
    "    def size(self):\n",
    "        return self._size(self.root)\n",
    "    def _size(self, node):\n",
    "        if node is None:\n",
    "            return 0\n",
    "        return self._size(node.left) + self._size(node.right) + 1\n",
    "\n",
    "bst = tree1()\n",
    "numbers = [6, 4, 8, 7, 9, 2, 1, 3, 5, 13, 11, 10, 12]\n",
    "for i in numbers:\n",
    "    bst.add(i)\n",
    "    \n",
    "bst.print_inorder()\n",
    "bst.size()"
   ]
  },
  {
   "cell_type": "code",
   "execution_count": 5,
   "metadata": {},
   "outputs": [
    {
     "name": "stdout",
     "output_type": "stream",
     "text": [
      "1 2 3 4 5 6 7 8 9 10 11 12 13 \n"
     ]
    },
    {
     "data": {
      "text/plain": [
       "6"
      ]
     },
     "execution_count": 5,
     "metadata": {},
     "output_type": "execute_result"
    }
   ],
   "source": [
    "# 2.最大深度\n",
    "class tree2(tree1):\n",
    "    def max_depth(self):\n",
    "        return self._max_depth(self.root)\n",
    "    \n",
    "    def _max_depth(self, node):\n",
    "        if node is None:\n",
    "            return 0\n",
    "        left_depth = self._max_depth(node.left)\n",
    "        right_depth = self._max_depth(node.right)\n",
    "        return max(left_depth, right_depth) + 1\n",
    "\n",
    "bst = tree2()\n",
    "numbers = [6, 4, 8, 7, 9, 2, 1, 3, 5, 13, 11, 10, 12]\n",
    "for i in numbers:\n",
    "    bst.add(i)\n",
    "bst.print_inorder()\n",
    "bst.max_depth()"
   ]
  },
  {
   "cell_type": "code",
   "execution_count": 6,
   "metadata": {},
   "outputs": [],
   "source": [
    "# 是否是平滑树\n",
    "class tree3(tree2):\n",
    "    def min_depth(self):\n",
    "        return self._min_depth(self.root)\n",
    "    \n",
    "    def _min_depth(self, node):\n",
    "        if node is None:\n",
    "            return 0\n",
    "        left_depth = self._min_depth(node.left)\n",
    "        right_depth = self._min_depth(node.right)\n",
    "        return min(left_depth, right_depth) + 1\n",
    "    \n",
    "    def is_balance(self):\n",
    "        return (self.max_depth() - self.min_depth()) <= 1"
   ]
  },
  {
   "cell_type": "code",
   "execution_count": 7,
   "metadata": {},
   "outputs": [
    {
     "name": "stdout",
     "output_type": "stream",
     "text": [
      "1 2 3 4 5 6 7 8 \n"
     ]
    },
    {
     "data": {
      "text/plain": [
       "False"
      ]
     },
     "execution_count": 7,
     "metadata": {},
     "output_type": "execute_result"
    }
   ],
   "source": [
    "bst = tree3()\n",
    "numbers = [1,2,3,4,5,6,7,8]\n",
    "for i in numbers:\n",
    "    bst.add(i)\n",
    "bst.print_inorder()\n",
    "bst.is_balance()"
   ]
  },
  {
   "cell_type": "code",
   "execution_count": 8,
   "metadata": {},
   "outputs": [
    {
     "name": "stdout",
     "output_type": "stream",
     "text": [
      "40\n",
      "40\n",
      "10\n",
      "None\n",
      "80\n"
     ]
    }
   ],
   "source": [
    "# floor or ceiling\n",
    "# floor：值 <= key\n",
    "# ceil：值 >= key\n",
    "class tree4(tree3):\n",
    "    def floor(self, key):\n",
    "        return self._floor(self.root, key)\n",
    "    \n",
    "    def _floor(self, node, key):\n",
    "        if node is None:\n",
    "            return None\n",
    "        if key == node.item:\n",
    "            return node\n",
    "        if key < node.item:\n",
    "            return self._floor(node.left, key)\n",
    "        t = self._floor(node.right, key)\n",
    "        if t:\n",
    "            return t\n",
    "        return node\n",
    "        \n",
    "bst = tree4()\n",
    "numbers = [40,20,70,50,10,60,30,80]\n",
    "for i in numbers:\n",
    "    bst.add(i)\n",
    "print(bst.floor(40).item)\n",
    "print(bst.floor(44).item)\n",
    "print(bst.floor(10).item)\n",
    "print(bst.floor(5))\n",
    "print(bst.floor(100).item)"
   ]
  },
  {
   "cell_type": "code",
   "execution_count": 9,
   "metadata": {},
   "outputs": [
    {
     "data": {
      "text/plain": [
       "True"
      ]
     },
     "execution_count": 9,
     "metadata": {},
     "output_type": "execute_result"
    }
   ],
   "source": [
    "# 判断是否是一颗平衡二叉树\n",
    "import sys\n",
    "class tree5(tree4):\n",
    "    def is_bst(self):\n",
    "        return self._is_bst(self.root, -sys.maxsize, sys.maxsize)\n",
    "    \n",
    "    def _is_bst(self, node, minval, maxval):\n",
    "        if node is None:\n",
    "            return True\n",
    "        if node.item < minval or node.item > maxval:\n",
    "            return False\n",
    "        return self._is_bst(node.left, minval, node.item) and \\\n",
    "                    self._is_bst(node.right, node.item, maxval)\n",
    "bst = tree5()\n",
    "numbers = [1,2,3,4,5,6,7,8]\n",
    "for i in numbers:\n",
    "    bst.add(i)\n",
    "bst.is_bst()"
   ]
  },
  {
   "cell_type": "code",
   "execution_count": 10,
   "metadata": {},
   "outputs": [
    {
     "name": "stdout",
     "output_type": "stream",
     "text": [
      "1 2 3 4 5 6 7 8 9 \n",
      "9 8 7 6 5 4 3 2 1 \n"
     ]
    }
   ],
   "source": [
    "# 将一个镜像树进行换镜像\n",
    "# 二叉树的镜像树就是把一个节点下的左右孩子交换\n",
    "class tree6(tree5):\n",
    "    def mirror(self):\n",
    "        self._mirror(self.root)\n",
    "    \n",
    "    def _mirror(self, node):\n",
    "        if node is not None:\n",
    "            self._mirror(node.left)\n",
    "            self._mirror(node.right)\n",
    "            \n",
    "            temp = node.left\n",
    "            node.left = node.right\n",
    "            node.right = temp\n",
    "            \n",
    "bst = tree6()\n",
    "numbers = [6, 4, 8, 7, 9, 5, 1, 3, 2]\n",
    "for i in numbers:\n",
    "    bst.add(i)\n",
    "bst.print_inorder()\n",
    "\n",
    "bst.mirror()\n",
    "bst.print_inorder()"
   ]
  },
  {
   "cell_type": "code",
   "execution_count": 11,
   "metadata": {},
   "outputs": [
    {
     "data": {
      "text/plain": [
       "True"
      ]
     },
     "execution_count": 11,
     "metadata": {},
     "output_type": "execute_result"
    }
   ],
   "source": [
    "# 判断两颗树是不是相同树\n",
    "class tree7(tree6):\n",
    "    def same_tree(self, another):\n",
    "        return self._same_tree(self.root, another.root)\n",
    "    \n",
    "    def _same_tree(self, node1, node2):\n",
    "        if node1 is None and node2 is None:\n",
    "            return True\n",
    "        if node1 is not None and node2 is not None:\n",
    "            return node1.item == node2.item and self._same_tree(node1.left, node2.left) and self._same_tree(node1.right, node2.right)\n",
    "        return False\n",
    "\n",
    "bst = tree7()\n",
    "numbers = [6, 4, 8, 7, 9, 5, 1, 3, 2]\n",
    "for i in numbers:\n",
    "    bst.add(i)\n",
    "another = tree7()\n",
    "numbers = [6, 4, 8, 7, 9, 5, 1, 3, 2]\n",
    "for i in numbers:\n",
    "    another.add(i)\n",
    "bst.same_tree(another)"
   ]
  },
  {
   "cell_type": "code",
   "execution_count": 12,
   "metadata": {},
   "outputs": [
    {
     "name": "stdout",
     "output_type": "stream",
     "text": [
      "False\n",
      "True\n"
     ]
    }
   ],
   "source": [
    "# 树是不是可折叠树：就是左右子树镜像\n",
    "class tree8(tree7):\n",
    "    def is_fold(self):\n",
    "        if self.root is None:\n",
    "            return True\n",
    "        return self._is_fold(self.root.left, self.root.right)\n",
    "    \n",
    "    def _is_fold(self, node1, node2):\n",
    "        if node1 is None and node2 is None:\n",
    "            return True\n",
    "        if node1 is None or node2 is None:\n",
    "            return False\n",
    "        return self._is_fold(node1.left, node2.right) and self._is_fold(node1.right, node2.left)\n",
    "\n",
    "bst = tree8()\n",
    "numbers = [6, 4, 8, 7, 9, 5, 1, 3, 2]\n",
    "for i in numbers:\n",
    "    bst.add(i)\n",
    "print(bst.is_fold())\n",
    "\n",
    "bst = tree8()\n",
    "numbers = [3,2,5,1,8]\n",
    "for i in numbers:\n",
    "    bst.add(i)\n",
    "print(bst.is_fold())"
   ]
  },
  {
   "cell_type": "code",
   "execution_count": 13,
   "metadata": {},
   "outputs": [
    {
     "name": "stdout",
     "output_type": "stream",
     "text": [
      "1 2 3 4 5 6 7 8 9 10 11 12 13 \n"
     ]
    },
    {
     "data": {
      "text/plain": [
       "5"
      ]
     },
     "execution_count": 13,
     "metadata": {},
     "output_type": "execute_result"
    }
   ],
   "source": [
    "# 迭代获取方法，不能用递归\n",
    "class tree9(BinarySearchTree):\n",
    "    def get_iter(self, key):\n",
    "        node = self.root\n",
    "        while node is not None:\n",
    "            if key == node.item:\n",
    "                return node.item\n",
    "            if key < node.item:\n",
    "                node = node.left\n",
    "            else:\n",
    "                node = node.right\n",
    "        return None\n",
    "\n",
    "bst = tree9()\n",
    "numbers = [6, 4, 8, 7, 9, 2, 1, 3, 5, 13, 11, 10, 12]\n",
    "for i in numbers:\n",
    "    bst.add(i)\n",
    "bst.print_inorder()\n",
    "bst.get_iter(5)"
   ]
  },
  {
   "cell_type": "code",
   "execution_count": 14,
   "metadata": {},
   "outputs": [
    {
     "name": "stdout",
     "output_type": "stream",
     "text": [
      "1 2 3 4 5 6 7 8 9 10 11 12 13 \n",
      "1 2 3 4 5 6 7 8 9 10 11 12 13 \n",
      "6 4 2 1 3 5 8 7 9 13 11 10 12 \n",
      "6 4 2 1 3 5 8 7 9 13 11 10 12 \n"
     ]
    }
   ],
   "source": [
    "# 迭代添加,不能用递归\n",
    "class tree10(tree9):\n",
    "    def add_iter(self, key):\n",
    "        new_node = Node(key)\n",
    "        if self.root is None:\n",
    "            self.root = new_node\n",
    "            return \n",
    "        \n",
    "        cur = self.root\n",
    "        parent = None\n",
    "        while True:\n",
    "            parent = cur\n",
    "            if key == cur.item:\n",
    "                return \n",
    "            if key < cur.item:\n",
    "                cur = cur.left\n",
    "                if cur is None:\n",
    "                    parent.left = new_node\n",
    "                    return \n",
    "            else:\n",
    "                cur = cur.right\n",
    "                if cur is None:\n",
    "                    parent.right = new_node\n",
    "                    return \n",
    "bst = tree10()\n",
    "numbers = [6, 4, 8, 7, 9, 2, 1, 3, 5, 13, 11, 10, 12]\n",
    "for i in numbers:\n",
    "    bst.add_iter(i)\n",
    "\n",
    "bst2 = tree10()\n",
    "numbers = [6, 4, 8, 7, 9, 2, 1, 3, 5, 13, 11, 10, 12]\n",
    "for i in numbers:\n",
    "    bst2.add(i)\n",
    "bst.print_inorder()\n",
    "bst2.print_inorder()\n",
    "bst.print_preorder()\n",
    "bst2.print_preorder()"
   ]
  },
  {
   "cell_type": "code",
   "execution_count": 15,
   "metadata": {},
   "outputs": [
    {
     "name": "stdout",
     "output_type": "stream",
     "text": [
      "1 2 3 4 5 6 7 8 9 10 11 12 13 \n",
      "1 2 3 4 5 6 7 8 9 10 11 12 13 "
     ]
    }
   ],
   "source": [
    "# 迭代法中序遍历树\n",
    "class tree11(tree10):\n",
    "    def inorder(self):\n",
    "        node = self.root\n",
    "        stack = []\n",
    "        \n",
    "        while True:\n",
    "            while node is not None:\n",
    "                stack.append(node)\n",
    "                node = node.left\n",
    "            if len(stack) == 0:\n",
    "                return \n",
    "            \n",
    "            node = stack.pop()\n",
    "            print(node.item, end=' ')\n",
    "            node = node.right\n",
    "\n",
    "bst = tree11()\n",
    "numbers = [6, 4, 8, 7, 9, 2, 1, 3, 5, 13, 11, 10, 12]\n",
    "for i in numbers:\n",
    "    bst.add(i)\n",
    "bst.print_inorder()  # 递归\n",
    "bst.inorder()        # 迭代"
   ]
  },
  {
   "cell_type": "code",
   "execution_count": 16,
   "metadata": {},
   "outputs": [
    {
     "name": "stdout",
     "output_type": "stream",
     "text": [
      "6 4 2 1 3 5 8 7 9 13 11 10 12 \n"
     ]
    },
    {
     "data": {
      "text/plain": [
       "[6, 4, 2, 1, 3, 5, 8, 7, 9, 13, 11, 10, 12]"
      ]
     },
     "execution_count": 16,
     "metadata": {},
     "output_type": "execute_result"
    }
   ],
   "source": [
    "# 迭代法前序排序\n",
    "class tree12(tree11):\n",
    "    def preorder(self):\n",
    "        res = []\n",
    "        stack = [self.root]\n",
    "        while stack:\n",
    "            node = stack.pop()\n",
    "            if node:\n",
    "                res.append(node.item)\n",
    "                stack.append(node.right)\n",
    "                stack.append(node.left)\n",
    "        return res\n",
    "\n",
    "bst = tree12()\n",
    "numbers = [6, 4, 8, 7, 9, 2, 1, 3, 5, 13, 11, 10, 12]\n",
    "for i in numbers:\n",
    "    bst.add(i)\n",
    "bst.print_preorder()\n",
    "bst.preorder()"
   ]
  },
  {
   "cell_type": "code",
   "execution_count": 17,
   "metadata": {},
   "outputs": [
    {
     "name": "stdout",
     "output_type": "stream",
     "text": [
      "4 7 8 6 \n",
      "4 7 8 6 "
     ]
    }
   ],
   "source": [
    "# 迭代法后序排序\n",
    "class tree13(tree12):\n",
    "    def postinorder(self):\n",
    "        stack = [(self.root, False)]\n",
    "        while stack:\n",
    "            node, visited = stack.pop()\n",
    "            if node:\n",
    "                if visited:\n",
    "                    print(node.item, end=' ')\n",
    "                else:\n",
    "                    stack.append((node, True))\n",
    "                    stack.append((node.right, False))\n",
    "                    stack.append((node.left, False))\n",
    "\n",
    "bst = tree13()\n",
    "numbers = [6, 4, 8, 7]\n",
    "for i in numbers:\n",
    "    bst.add(i)\n",
    "bst.print_postorder()\n",
    "bst.postinorder()"
   ]
  },
  {
   "cell_type": "code",
   "execution_count": 18,
   "metadata": {},
   "outputs": [
    {
     "data": {
      "text/plain": [
       "[[6], [4, 8], [2, 5, 7, 9], [1, 3, 13], [11], [10, 12]]"
      ]
     },
     "execution_count": 18,
     "metadata": {},
     "output_type": "execute_result"
    }
   ],
   "source": [
    "# 二叉树级别遍历 \n",
    "# 给定一个二叉树，返回其节点值的级别遍历。即从左到右，逐级的遍历\n",
    "class tree14(tree13):\n",
    "    def level_orther(self):\n",
    "        if self.root is None:\n",
    "            return []\n",
    "        \n",
    "        res = []\n",
    "        level = [self.root]\n",
    "        while level:\n",
    "            cur = []\n",
    "            next_level = []\n",
    "            for node in level:\n",
    "                cur.append(node.item)\n",
    "                if node.left:\n",
    "                    next_level.append(node.left)\n",
    "                if node.right:\n",
    "                    next_level.append(node.right)\n",
    "            res.append(cur)\n",
    "            level = next_level\n",
    "        return res\n",
    "\n",
    "bst = tree14()\n",
    "numbers = [6, 4, 8, 7, 9, 2, 1, 3, 5, 13, 11, 10, 12]\n",
    "for i in numbers:\n",
    "    bst.add(i)\n",
    "bst.level_orther()"
   ]
  },
  {
   "cell_type": "code",
   "execution_count": 29,
   "metadata": {},
   "outputs": [
    {
     "data": {
      "text/plain": [
       "[[10, 12], [11], [1, 3, 13], [2, 5, 7, 9], [4, 8], [6]]"
      ]
     },
     "execution_count": 29,
     "metadata": {},
     "output_type": "execute_result"
    }
   ],
   "source": [
    "# 二叉树级别遍历(从左到右，从子节点到跟节点)\n",
    "# 思路：将每行的值依次加入到res中，最后反转并返回\n",
    "class tree15(tree14):\n",
    "    def level_reverse_order(self):\n",
    "        if not self.root:\n",
    "            return []\n",
    "        res = []  # 用于保存结果\n",
    "        level = [self.root]\n",
    "        while level:\n",
    "            res.append([node.item for node in level])\n",
    "            temp = []\n",
    "            for node in level:\n",
    "                temp.extend([node.left, node.right])\n",
    "            level = [leaf for leaf in temp if leaf]\n",
    "        res.reverse()\n",
    "        return res \n",
    "    \n",
    "bst = tree15()\n",
    "numbers = [6, 4, 8, 7, 9, 2, 1, 3, 5, 13, 11, 10, 12]\n",
    "for i in numbers:\n",
    "    bst.add(i)\n",
    "bst.level_reverse_order()"
   ]
  },
  {
   "cell_type": "code",
   "execution_count": 37,
   "metadata": {},
   "outputs": [
    {
     "data": {
      "text/plain": [
       "[[6], [8, 4], [2, 5, 7, 9], [13, 3, 1], [11], [12, 10]]"
      ]
     },
     "execution_count": 37,
     "metadata": {},
     "output_type": "execute_result"
    }
   ],
   "source": [
    "# 之字形遍历二叉树：从上到下，先从左到右，在从右到左\n",
    "class tree16(tree15):\n",
    "    def level_z_order(self):\n",
    "        if self.root is None:\n",
    "            return []\n",
    "        res = []\n",
    "        flag = 1\n",
    "        level = [self.root]\n",
    "        while level:\n",
    "            res.append([node.item for node in level][::flag])\n",
    "            temp = []\n",
    "            for node in level:\n",
    "                temp.extend([node.left, node.right])\n",
    "            level = [leaf for leaf in temp if leaf]\n",
    "            flag *= -1\n",
    "        return res\n",
    "    \n",
    "bst = tree16()\n",
    "numbers = [6, 4, 8, 7, 9, 2, 1, 3, 5, 13, 11, 10, 12]\n",
    "for i in numbers:\n",
    "    bst.add(i)\n",
    "bst.level_z_order()    "
   ]
  },
  {
   "cell_type": "code",
   "execution_count": 48,
   "metadata": {},
   "outputs": [
    {
     "name": "stdout",
     "output_type": "stream",
     "text": [
      "3 9 20 15 7 \n",
      "9 3 15 20 7 \n"
     ]
    }
   ],
   "source": [
    "# 利用先序和中序遍历重建一颗树\n",
    "def build_tree(preorder, inorder):\n",
    "    if inorder:\n",
    "        root_id = inorder.index(preorder.pop(0))\n",
    "        root = Node(inorder[root_id])\n",
    "        root.left = build_tree(preorder, inorder[0:root_id])\n",
    "        root.right = build_tree(preorder, inorder[root_id+1:])\n",
    "        return root\n",
    "\n",
    "preorder = [3,9,20,15,7]\n",
    "inorder = [9,3,15,20,7]\n",
    "root = build_tree(preorder, inorder)\n",
    "bst = BinarySearchTree(root)\n",
    "bst.print_preorder()\n",
    "bst.print_inorder()"
   ]
  },
  {
   "cell_type": "code",
   "execution_count": 70,
   "metadata": {},
   "outputs": [
    {
     "name": "stdout",
     "output_type": "stream",
     "text": [
      "9 3 15 20 7 \n",
      "9 15 7 20 3 \n"
     ]
    }
   ],
   "source": [
    "# 利用后序和中序遍历重建一颗树\n",
    "def build_tree(inorder, postorder):\n",
    "    if not postorder or not inorder:\n",
    "        return None\n",
    "    root = Node(postorder.pop())\n",
    "    root_id = inorder.index(root.item)\n",
    "    root.right = build_tree(inorder[root_id+1:], postorder)\n",
    "    root.left = build_tree(inorder[:root_id], postorder)\n",
    "    return root\n",
    "\n",
    "inorder = [9,3,15,20,7]\n",
    "postorder = [9,15,7,20,3]\n",
    "root = build_tree(inorder, postorder)\n",
    "bst = BinarySearchTree(root)\n",
    "bst.print_inorder()\n",
    "bst.print_postorder()"
   ]
  },
  {
   "cell_type": "code",
   "execution_count": 85,
   "metadata": {},
   "outputs": [
    {
     "name": "stdout",
     "output_type": "stream",
     "text": [
      "-10 -3 0 5 9 12 \n",
      "5 -3 -10 0 12 9 \n"
     ]
    }
   ],
   "source": [
    "# 给定一个排序的数组，将其转换为一个平衡二叉树：子树的高度差不超过1\n",
    "# 思路：寻找中间值==root + 生成二叉树，和重建一棵树的思路很像\n",
    "def sortarr_to_tree(arr):\n",
    "    if not arr:\n",
    "        return None\n",
    "    mid = len(arr) // 2\n",
    "    \n",
    "    root = Node(arr[mid])\n",
    "    root.left = sortarr_to_tree(arr[:mid])\n",
    "    root.right = sortarr_to_tree(arr[mid+1:])\n",
    "    return root\n",
    "\n",
    "num = [-10,-3,0,5,9, 12]\n",
    "root = sortarr_to_tree(num)\n",
    "bst = BinarySearchTree(root)\n",
    "bst.print_inorder()\n",
    "bst.print_preorder()"
   ]
  },
  {
   "cell_type": "code",
   "execution_count": null,
   "metadata": {},
   "outputs": [],
   "source": [
    "# 给定一个排序的链表，将其转换为一个平衡二叉树：子树的高度差不超过1\n",
    "# 思路：寻找链表中间值==root + 生成二叉树，和数组一样\n",
    "class Solution:\n",
    "    def find_mid(head, tail):\n",
    "        fast = head\n",
    "        slow = head\n",
    "        while fast != tail and fast.next != tail:\n",
    "            slow = slow.next\n",
    "            fast = fast.next.next\n",
    "        return slow\n",
    "    \n",
    "    def sortlist_to_tree(head, tail):\n",
    "        if head == tail:\n",
    "            return None\n",
    "        mid = find_mid(head, tail)\n",
    "        \n",
    "        root = Node(mid.item)\n",
    "        root.left = sortlist_to_tree(head, mid)\n",
    "        root.right = sortlist_to_tree(mid.next, tail)\n",
    "        return root"
   ]
  }
 ],
 "metadata": {
  "kernelspec": {
   "display_name": "Python 3",
   "language": "python",
   "name": "python3"
  },
  "language_info": {
   "codemirror_mode": {
    "name": "ipython",
    "version": 3
   },
   "file_extension": ".py",
   "mimetype": "text/x-python",
   "name": "python",
   "nbconvert_exporter": "python",
   "pygments_lexer": "ipython3",
   "version": "3.8.5"
  }
 },
 "nbformat": 4,
 "nbformat_minor": 2
}
