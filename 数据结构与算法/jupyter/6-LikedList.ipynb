{
 "cells": [
  {
   "cell_type": "markdown",
   "metadata": {},
   "source": [
    "## LinkedList实现"
   ]
  },
  {
   "cell_type": "code",
   "execution_count": 3,
   "metadata": {},
   "outputs": [],
   "source": [
    "class Node:\n",
    "    def __init__(self, value=None, next=None):\n",
    "        self.value = value\n",
    "        self.next = next\n",
    "\n",
    "class LinkedList:\n",
    "    def __init__(self):\n",
    "        self.head = Node()\n",
    "        self.tail = None\n",
    "        self.length = 0\n",
    "    \n",
    "    def peek(self):\n",
    "        if not self.head.next:\n",
    "            raise Empty('LinkedList is empty')\n",
    "        return self.head.next\n",
    "    \n",
    "    def get_first(self):\n",
    "        if not self.head.next:\n",
    "            raise Empty('LinkedList is empty')\n",
    "        return self.head.next\n",
    "    \n",
    "    def get_last(self):\n",
    "        if not self.head.next:\n",
    "            raise Empty('LinkedList is empty')\n",
    "        cur = self.head\n",
    "        while cur.next:\n",
    "            cur = cur.next\n",
    "        return cur\n",
    "    \n",
    "    def get(self, idx):\n",
    "        if idx >= self.length or idx < 0:\n",
    "            raise Outbound('index is out of bound')\n",
    "        if not self.head.next:\n",
    "            raise Empty('LinkedList is empty')\n",
    "        node = self.head\n",
    "        for i in range(idx):\n",
    "            node = node.next\n",
    "        return node\n",
    "    \n",
    "    def add_first(self, value):\n",
    "        node = Node(value, None)\n",
    "        node.next = self.head.next\n",
    "        self.head.next = node\n",
    "        self.length += 1\n",
    "    \n",
    "    def add_last(self, value):\n",
    "        node = Node(value, None)\n",
    "        cur = self.head\n",
    "        while cur.next:\n",
    "            cur = cur.next\n",
    "        cur.next = node\n",
    "        self.length += 1\n",
    "    \n",
    "    def add(self, index, value):\n",
    "        if index < 0 or index >= self.length:\n",
    "            raise Outbound('index is out of bound')\n",
    "        if not self.head.next:\n",
    "            raise Empty( 'LinkedList is empty' )  \n",
    "        node = Node(value, None)\n",
    "        cur = self.head\n",
    "        for i in range(index):\n",
    "            cur = cur.next \n",
    "        node.next = cur.next\n",
    "        cur.next = node\n",
    "        self.length += 1\n",
    "        \n",
    "    def remove_first(self):\n",
    "        if not self.head.next:\n",
    "            raise Empty( 'LinkedList is empty' )\n",
    "        value = self.head.next\n",
    "        self.head.next = self.head.next.next\n",
    "        self.length -= 1\n",
    "        return value \n",
    "    \n",
    "    def remove_last(self):\n",
    "        if not self.head.next:\n",
    "            raise Empty( 'LinkedList is empty' )\n",
    "        pre = self.head\n",
    "        cur = self.head.next\n",
    "        while cur.next:\n",
    "            pre = cur \n",
    "            cur = cur.next\n",
    "        pre.next = None\n",
    "        self.length -= 1\n",
    "        return cur.value \n",
    "    \n",
    "    def remove(self, index):\n",
    "        if (index < 0 or index >= self.length):\n",
    "            raise Outbound( 'index is out of bound' )\n",
    "        if not self.head.next:\n",
    "            raise Empty( 'LinkedList is empty' )\n",
    "        cur = self.head\n",
    "        for i in range(index):\n",
    "            cur = cur.next\n",
    "        value = cur.next\n",
    "        cur.next = cur.next.next\n",
    "        self.length -= 1\n",
    "        return value\n",
    "    \n",
    "    def printlist(self):\n",
    "        if not self.head.next:\n",
    "            raise Empty( 'LinkedList is empty' )\n",
    "        node = self.head.next\n",
    "        count = 0\n",
    "        for i in range(self.length):\n",
    "            print(node.value, end=' ')\n",
    "            node = node.next   \n",
    "            count += 1 "
   ]
  },
  {
   "cell_type": "code",
   "execution_count": 13,
   "metadata": {},
   "outputs": [
    {
     "name": "stdout",
     "output_type": "stream",
     "text": [
      "0 1 2 3 4 5 6 7 8 9 "
     ]
    }
   ],
   "source": [
    "l = LinkedList()\n",
    "for i in range(10):\n",
    "    l.add_last(i)\n",
    "l.printlist()"
   ]
  },
  {
   "cell_type": "code",
   "execution_count": null,
   "metadata": {},
   "outputs": [],
   "source": []
  },
  {
   "cell_type": "markdown",
   "metadata": {},
   "source": [
    "## 练习题"
   ]
  },
  {
   "cell_type": "markdown",
   "metadata": {},
   "source": [
    "### 1. delete a node"
   ]
  },
  {
   "cell_type": "code",
   "execution_count": 18,
   "metadata": {},
   "outputs": [],
   "source": [
    "def delete_node(node):\n",
    "    pringt(node.value)\n",
    "    node.value = node.next.value\n",
    "    node.next = node.next.next"
   ]
  },
  {
   "cell_type": "markdown",
   "metadata": {},
   "source": [
    "### 2. find the middle node(快慢指针)"
   ]
  },
  {
   "cell_type": "code",
   "execution_count": 17,
   "metadata": {},
   "outputs": [],
   "source": [
    "def find_middle(linked_list):\n",
    "    assert linked_list.head is not None and linked_list.next is not None\n",
    "    head = linked_list.head\n",
    "    fast = head\n",
    "    slow = head\n",
    "    while fast is not None and fast.next is not None:\n",
    "        fast = fast.next.next  # 2步\n",
    "        slow = slow.next       # 1步\n",
    "    return slow.value"
   ]
  },
  {
   "cell_type": "markdown",
   "metadata": {},
   "source": [
    "### 3. 确定链表是否有环(快慢指针)"
   ]
  },
  {
   "cell_type": "code",
   "execution_count": 22,
   "metadata": {},
   "outputs": [],
   "source": [
    "def has_cycle(lst):\n",
    "    head = lst.head\n",
    "    if head is None:\n",
    "        return False\n",
    "    \n",
    "    slow = head\n",
    "    fast = head\n",
    "    \n",
    "    while fast is not None and fast.next is not None:\n",
    "        fast = fast.next.next\n",
    "        slow = slow.next\n",
    "        \n",
    "        if slow == fast:\n",
    "            return True\n",
    "    return False"
   ]
  },
  {
   "cell_type": "markdown",
   "metadata": {},
   "source": [
    "### 4. 给一个带环链表，找到入环节点\n",
    "#### https://blog.csdn.net/Herishwater/article/details/96433817\n",
    "思路： \n",
    "假设从链表头节点到入环点的距离是 D，从入环点到两个指针首次相遇点的距离是 S1，\n",
    "从首次相遇点回到入环点的距离是 S2。p 指针和 q 指针首次相遇时，\n",
    "各自走的距离为：L(q) = D+S1，L(p) = D+S1+S2+S1。\n",
    "由于 p 指针的速度是 q 的 2 倍，所以所走的距离也是 q 的 2 倍，因此：2(D+S1) = D+2S1+S2，即为：D = S2。\n",
    "从公式可以看出，从链表头节点到入环点的距离，等于从首次相遇点回到入环点的距离。\n",
    "因此我们重新选择两个速度一致的节点，一个从头节点位置出发，另一个从首次相遇点出发，\n",
    "那么，它们最终相遇的节点，就是入环点。"
   ]
  },
  {
   "cell_type": "code",
   "execution_count": 26,
   "metadata": {},
   "outputs": [],
   "source": [
    "def find_begin(head):  # 给出头节点\n",
    "    if head is None:\n",
    "        return False\n",
    "    slow = head\n",
    "    fast = head\n",
    "    \n",
    "    while fast is not None and fast.next is not None:\n",
    "        fast = fast.next.next\n",
    "        slow = slow.next\n",
    "        \n",
    "        if slow == fast:    # 表明有环\n",
    "            fast = head     \n",
    "            break\n",
    "    if fast is None or fast.next is None:\n",
    "        return None\n",
    "    \n",
    "    while fast != slow:\n",
    "        fast = fast.next\n",
    "        slow = slow.next\n",
    "    return slow       "
   ]
  },
  {
   "cell_type": "markdown",
   "metadata": {},
   "source": [
    "### 5. 删除单链表倒数第n个节点"
   ]
  },
  {
   "cell_type": "code",
   "execution_count": 30,
   "metadata": {},
   "outputs": [],
   "source": [
    "def remove_nth(lst, n):\n",
    "    assert n < lst.length and n > 0\n",
    "    \n",
    "    fast = lst.head\n",
    "    while n>0:\n",
    "        fast = fast.next\n",
    "        n = n - 1\n",
    "    slow = lst.head\n",
    "    while fast.next is not None:\n",
    "        fast = fast.next\n",
    "        slow = slow.next\n",
    "    result = slow.value \n",
    "    slow.next = slow.next.next\n",
    "    lst.length -= 1\n",
    "    return result "
   ]
  },
  {
   "cell_type": "markdown",
   "metadata": {},
   "source": [
    "### 6. 给定一个链表，返回一个前半部，一个后半部"
   ]
  },
  {
   "cell_type": "code",
   "execution_count": 34,
   "metadata": {},
   "outputs": [],
   "source": [
    "def split(head):\n",
    "    if head is None:\n",
    "        return \n",
    "    \n",
    "    fast = head\n",
    "    slow = head\n",
    "    front_last_node = slow \n",
    "    while fast is not None:\n",
    "        front_last_node = slow \n",
    "        slow = slow.next\n",
    "        fast = fast.next.next if fast.next is not None else None\n",
    "    front_last_node.next = None\n",
    "    front = head\n",
    "    back = slow\n",
    "    return (front, slow)"
   ]
  },
  {
   "cell_type": "markdown",
   "metadata": {},
   "source": [
    "### 7. 合并两个有序的链表，返回一个新链表\n",
    "Input: 1->2->4, 1->3->4\n",
    "\n",
    "Output: 1->1->2->3->4->4"
   ]
  },
  {
   "cell_type": "code",
   "execution_count": 11,
   "metadata": {},
   "outputs": [],
   "source": [
    "def mergeTwoList(l1, l2):\n",
    "    head = cur = Node(0)\n",
    "    while l1 and l2:\n",
    "        if l1.value < l2.value:\n",
    "            cur.next = l1\n",
    "            l1 = l1.next\n",
    "        else:\n",
    "            cur.next = l2\n",
    "            l2 = l2.next\n",
    "        cur = cur.next\n",
    "    cur.next = l1 or l2\n",
    "    return head        \n",
    "\n",
    "# recursively\n",
    "def mergeTwolist2(l1, l2):\n",
    "    if not l1 or not l2:\n",
    "        return l1 or l2\n",
    "    if l1.value < l2.value:\n",
    "        l1.next = mergeTwoList2(l1.next, l2)\n",
    "        return l1\n",
    "    else:\n",
    "        l2.next = mergeTwoList2(l1, l2.next)\n",
    "        return l2"
   ]
  },
  {
   "cell_type": "code",
   "execution_count": 12,
   "metadata": {},
   "outputs": [],
   "source": [
    "node1 = Node(1)\n",
    "node2 = Node(2)\n",
    "node3 = Node(4)\n",
    "node1.next = node2\n",
    "node2.next = node3\n",
    "\n",
    "node4 = Node(1)\n",
    "node5 = Node(3)\n",
    "node6 = Node(4)\n",
    "node4.next = node5\n",
    "node5.next = node6\n",
    "\n",
    "node = mergeTwoList(node1, node4)\n",
    "lst = LinkedList()\n",
    "lst.head.next = node\n",
    "lst.printlist()"
   ]
  },
  {
   "cell_type": "markdown",
   "metadata": {},
   "source": [
    "### 8.找到两个单链表的交叉处的结点\n",
    "\n",
    "A:          a1 → a2\n",
    "\n",
    "                   ↘\n",
    "                   \n",
    "                     c1 → c2 → c3\n",
    "                     \n",
    "                   ↗    \n",
    "                   \n",
    "B:     b1 → b2 → b3\n",
    "\n",
    "begin to intersect at node c1."
   ]
  },
  {
   "cell_type": "code",
   "execution_count": 13,
   "metadata": {},
   "outputs": [],
   "source": [
    "def getIntersectionNode(l1, l2):\n",
    "    cur1, cur2 = l1, l2\n",
    "    len1, len2 = 0, 0\n",
    "    while cur1:\n",
    "        len1 += 1\n",
    "        cur1 = cur1.next\n",
    "    while cur2:\n",
    "        len2 += 1\n",
    "        cur2 = cur2.next\n",
    "    cur1, cur2 = l1, l2\n",
    "    if len1 < len2:\n",
    "        for i in range(len2 - len1):\n",
    "            cur1 = cur1.next\n",
    "    elif len2 < len1:\n",
    "        for j in range(len1 - len2):\n",
    "            cur2 = cur1.next\n",
    "    while cur1 != cur2:\n",
    "        cur1 = cur1.next\n",
    "        cur2 = cur.next\n",
    "    return cur1\n",
    "\n",
    "def getitersectionNode(l1, l2):\n",
    "    if l1 and l2:\n",
    "        cur1, cur2 = l1, l2\n",
    "        while cur1 != cur2:\n",
    "            cur1 = cur1.next if cur1 else l2\n",
    "            cur2 = cur2.next if cur2 else l1\n",
    "        return cur1"
   ]
  },
  {
   "cell_type": "markdown",
   "metadata": {},
   "source": [
    "### 9.链表排序O(nlogn)"
   ]
  },
  {
   "cell_type": "code",
   "execution_count": 6,
   "metadata": {},
   "outputs": [],
   "source": [
    "def sortList(head):\n",
    "    if head is None or head.next is None:\n",
    "        return head\n",
    "    mid = getMiddle(head)\n",
    "    rhead = mid.next\n",
    "    mid.next = None\n",
    "    return merge(sortList(head), sortList(rhead))\n",
    "\n",
    "def merge(lhead, rhead):\n",
    "    new_head = node = Node(0)\n",
    "    while lhead and rhead:\n",
    "        if lhead.value < rhead.value:\n",
    "            node.next = lhead\n",
    "            lhead = lhead.next\n",
    "        else:\n",
    "            node.next = rhead\n",
    "            rhead = rhead.next\n",
    "        node = node.next\n",
    "    if lhead:\n",
    "        node.next = lhead\n",
    "    elif rhead:\n",
    "        node.next = rhead\n",
    "    return new_head.next\n",
    "    \n",
    "def getMiddle(head):\n",
    "    if head is None:\n",
    "        return head\n",
    "    slow = head\n",
    "    fast = head\n",
    "    while fast.next and fast.next.next:\n",
    "        slow = slow.next\n",
    "        fast = fast.next.next\n",
    "    return slow"
   ]
  },
  {
   "cell_type": "code",
   "execution_count": 7,
   "metadata": {},
   "outputs": [],
   "source": [
    "node1 = Node(9)\n",
    "node2 = Node(1)\n",
    "node3 = Node(13)\n",
    "node4 = Node(6)\n",
    "node5 = Node(5)\n",
    "node1.next = node2\n",
    "node2.next = node3\n",
    "node3.next = node4\n",
    "node4.next = node5\n",
    "node = sortList(node1)\n",
    "lst = LinkedList()\n",
    "lst.head.next = node\n",
    "lst.printlist()"
   ]
  },
  {
   "cell_type": "markdown",
   "metadata": {},
   "source": [
    "### 10.反转一个链表"
   ]
  },
  {
   "cell_type": "code",
   "execution_count": 8,
   "metadata": {},
   "outputs": [],
   "source": [
    "def reverse(head):\n",
    "    if head is None or head.next is None:\n",
    "        return head\n",
    "    pre = None\n",
    "    cur = head\n",
    "    while cur is not None:\n",
    "        cur_next = cur.next\n",
    "        cur.next = pre\n",
    "        pre = cur\n",
    "        cur = cur_next\n",
    "    return pre"
   ]
  },
  {
   "cell_type": "markdown",
   "metadata": {},
   "source": [
    "### 11.从m到n位置开始反转链表\n",
    "Given 1->2->3->4->5->NULL, m = 2 and n = 4,\n",
    "\n",
    "return 1->4->3->2->5->NULL."
   ]
  },
  {
   "cell_type": "code",
   "execution_count": 11,
   "metadata": {},
   "outputs": [],
   "source": [
    "def reversePosition(head, m, n):\n",
    "    if m == n:\n",
    "        return head\n",
    "    node = Node(0)\n",
    "    node.next = head\n",
    "    pre = node\n",
    "    \n",
    "    for i in range(m-1):\n",
    "        pre = pre.next\n",
    "    \n",
    "    result = None\n",
    "    cur = pre.next\n",
    "    for i in range(n-m+1):\n",
    "        cur_next = cur.next\n",
    "        cur.next = result\n",
    "        result = cur\n",
    "        cur = cur_next\n",
    "    pre.next.next = cur\n",
    "    pre.next = result\n",
    "    return node.next"
   ]
  },
  {
   "cell_type": "markdown",
   "metadata": {},
   "source": [
    "### 12.相邻的每两步反转一下链表，并返回链表头\n",
    "Given 1->2->3->4, you should return the list as 2->1->4->3."
   ]
  },
  {
   "cell_type": "code",
   "execution_count": 13,
   "metadata": {},
   "outputs": [],
   "source": [
    "def swapPairs(head):\n",
    "    node = cur = Node(0)\n",
    "    node.next = head\n",
    "    \n",
    "    while cur.next and cur.next.next:\n",
    "        p1 = cur.next\n",
    "        p2 = cur.next.next\n",
    "        cur.next = p2\n",
    "        p1.next = p2.next\n",
    "        p2.next = p1\n",
    "        cur = cur.next.next\n",
    "    return node.next"
   ]
  },
  {
   "cell_type": "markdown",
   "metadata": {},
   "source": [
    "### 13.判断一个链表是不是回文结构\n",
    "回文就是反转以后和以前一样的就是回文结构"
   ]
  },
  {
   "cell_type": "code",
   "execution_count": 4,
   "metadata": {},
   "outputs": [],
   "source": [
    "def isPalidrome(head):\n",
    "    rev = None\n",
    "    slow = fast = head\n",
    "    while fast and fast.next:\n",
    "        fast = fast.next.next\n",
    "        rev, rev.next, slow = slow, rev, slow.next\n",
    "    if fast:\n",
    "        slow = slow.next\n",
    "    while rev and rev.value == slow.value:\n",
    "        rev = rev.next\n",
    "        slow = slow.next\n",
    "    return not rev "
   ]
  },
  {
   "cell_type": "markdown",
   "metadata": {},
   "source": [
    "### 14.从有序的链表删除重复的元素\n",
    "Given 1->1->2, return 1->2.\n",
    "\n",
    "Given 1->1->2->3->3, return 1->2->3."
   ]
  },
  {
   "cell_type": "code",
   "execution_count": 5,
   "metadata": {},
   "outputs": [],
   "source": [
    "def deleteDuplicates(head):\n",
    "    if head is None:\n",
    "        return head\n",
    "    node = head\n",
    "    while node.next:\n",
    "        if node.value == node.next.value:\n",
    "            node.next = node.next.next\n",
    "        else:\n",
    "            node = node.next\n",
    "    return head "
   ]
  },
  {
   "cell_type": "markdown",
   "metadata": {},
   "source": [
    "### 15.将有序链表所有重复的元素删掉\n",
    "Given 1->2->3->3->4->4->5, return 1->2->5.\n",
    "\n",
    "Given 1->1->1->2->3, return 2->3."
   ]
  },
  {
   "cell_type": "code",
   "execution_count": null,
   "metadata": {},
   "outputs": [],
   "source": [
    "# cur和node是同一个节点，cur负责移动，node负责返回结果\n",
    "def deleteDuplicate2(head):\n",
    "    cur = node = Node(0)\n",
    "    node.next = head\n",
    "    while head and head.next:\n",
    "        if head.value == head.next.value:\n",
    "            while head and head.next and head.vaule == head.next.value:\n",
    "                head = head.next\n",
    "            head = head.next\n",
    "            cur.next = head\n",
    "        else:\n",
    "            cur = cur.next\n",
    "            head = head.next\n",
    "    return node.next"
   ]
  }
 ],
 "metadata": {
  "kernelspec": {
   "display_name": "Python 3",
   "language": "python",
   "name": "python3"
  },
  "language_info": {
   "codemirror_mode": {
    "name": "ipython",
    "version": 3
   },
   "file_extension": ".py",
   "mimetype": "text/x-python",
   "name": "python",
   "nbconvert_exporter": "python",
   "pygments_lexer": "ipython3",
   "version": "3.8.5"
  }
 },
 "nbformat": 4,
 "nbformat_minor": 2
}
