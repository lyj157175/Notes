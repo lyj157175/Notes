{
 "cells": [
  {
   "cell_type": "markdown",
   "metadata": {},
   "source": [
    "## 数组栈"
   ]
  },
  {
   "cell_type": "code",
   "execution_count": 6,
   "metadata": {},
   "outputs": [],
   "source": [
    "class ArrayStack(object):\n",
    "    def __init__(self):\n",
    "        self.data = []\n",
    "    \n",
    "    def __len__(self):\n",
    "        return len(self.data)\n",
    "    \n",
    "    def is_empty(self):\n",
    "        return len(self.data) == 0\n",
    "    \n",
    "    def push(self, item):\n",
    "        self.data.append(item)\n",
    "    \n",
    "    def top(self):\n",
    "        if self.is_empty():\n",
    "            raise ValueError('stack is empty')\n",
    "        return self.data[-1]\n",
    "    \n",
    "    def pop(self):\n",
    "        if self.is_empty():\n",
    "            raise ValueError('stack is empty')\n",
    "        return self.data.pop()\n",
    "    \n",
    "    def printstack(self):\n",
    "        for i in range(len(self.data)):\n",
    "            print(self.data[i], end=' ')"
   ]
  },
  {
   "cell_type": "code",
   "execution_count": 5,
   "metadata": {},
   "outputs": [
    {
     "name": "stdout",
     "output_type": "stream",
     "text": [
      "size was:  0\n",
      "size was:  5\n",
      "1 2 3 4 5 size was:  3\n",
      "1 2 3 3\n"
     ]
    },
    {
     "data": {
      "text/plain": [
       "1"
      ]
     },
     "execution_count": 5,
     "metadata": {},
     "output_type": "execute_result"
    }
   ],
   "source": [
    "mystack = Stack()\n",
    "print ('size was: ', str(len(mystack)))\n",
    "mystack.push(1)\n",
    "mystack.push(2)\n",
    "mystack.push(3)\n",
    "mystack.push(4)\n",
    "mystack.push(5)\n",
    "print ('size was: ', str(len(mystack)))\n",
    "mystack.printstack()\n",
    "mystack.pop()\n",
    "mystack.pop()\n",
    "print ('size was: ', str(len(mystack)))\n",
    "mystack.printstack()\n",
    "print(mystack.top())\n",
    "mystack.pop()\n",
    "mystack.pop()\n",
    "mystack.pop()"
   ]
  },
  {
   "cell_type": "code",
   "execution_count": null,
   "metadata": {},
   "outputs": [],
   "source": []
  },
  {
   "cell_type": "markdown",
   "metadata": {},
   "source": [
    "## 链表栈"
   ]
  },
  {
   "cell_type": "code",
   "execution_count": null,
   "metadata": {},
   "outputs": [],
   "source": [
    "# 这里假定实现了LinkedList和Node类, 查看LinkedList\n",
    "from LinkedList import LinkedList\n",
    "from LinkedList import Node\n",
    "\n",
    "class LinkedStack(object):\n",
    "    def __init__(self):\n",
    "        self.lst = LinkedList()\n",
    "    \n",
    "    def __len__(self):\n",
    "        return self.lst.length\n",
    "    \n",
    "    def is_empty(self):\n",
    "        return self.lst.length == 0\n",
    "    \n",
    "    def push(self, item):\n",
    "        self.lst.add_first(item)\n",
    "        \n",
    "    def top(self):\n",
    "        return self.lst.get_first().value\n",
    "    \n",
    "    def pop(self):\n",
    "        return lst.remove_first().value\n",
    "    \n",
    "    def printstack(self):\n",
    "        self.lst.printlist()"
   ]
  },
  {
   "cell_type": "code",
   "execution_count": null,
   "metadata": {},
   "outputs": [],
   "source": []
  },
  {
   "cell_type": "markdown",
   "metadata": {},
   "source": [
    "### 练习题\n"
   ]
  },
  {
   "cell_type": "markdown",
   "metadata": {},
   "source": [
    "### 1.用栈实现队列"
   ]
  },
  {
   "cell_type": "code",
   "execution_count": 3,
   "metadata": {},
   "outputs": [],
   "source": [
    "class QueueWithTwoStacks:\n",
    "    def __init__(self):\n",
    "        self.insert_stack = []\n",
    "        self.pop_stack = []\n",
    "    \n",
    "    def enqueue(self, e):\n",
    "        self.insert_stack.append(e)\n",
    "        return e\n",
    "    \n",
    "    def dequeue(self):\n",
    "        if len(self.insert_stack) == 0 and len(self.pop_stack) == 0:\n",
    "            return None\n",
    "        if len(self.pop_stack) == 0:\n",
    "            while len(self.insert_stack) != 0:\n",
    "                self.pop_stack.append(self.insert_stack.pop())\n",
    "        return self.pop_stack.pop()"
   ]
  },
  {
   "cell_type": "markdown",
   "metadata": {},
   "source": [
    "### 2.判断一个字符串是不是有效括号，包括'(', ')' ,'{', '}', '[', ']'"
   ]
  },
  {
   "cell_type": "code",
   "execution_count": 12,
   "metadata": {},
   "outputs": [],
   "source": [
    "def isValid(s):\n",
    "    stack = []\n",
    "    for c in s:\n",
    "        if c == '(' or c == '{' or c == '[':\n",
    "            stack.append(c)\n",
    "        else:\n",
    "            if len(stack) == 0:\n",
    "                return False\n",
    "            if (c ==')' and stack[-1]=='(' \n",
    "                or c =='}' and stack[-1]=='{' \n",
    "                or c ==']' and stack[-1]=='['):\n",
    "                stack.pop()\n",
    "            else:\n",
    "                return False\n",
    "    return len(stack)==0"
   ]
  },
  {
   "cell_type": "markdown",
   "metadata": {},
   "source": [
    "### 3. 简化路径\n",
    "path = \"/home/\" => \"/home\"\n",
    "\n",
    "path = \"/a/./b/../../c/\" => \"/c\""
   ]
  },
  {
   "cell_type": "code",
   "execution_count": 16,
   "metadata": {},
   "outputs": [],
   "source": [
    "def simplifyPath(path):\n",
    "    lst = []\n",
    "    res = path.split('/')\n",
    "    for c in res:\n",
    "        if c=='.' or c=='':\n",
    "            continue\n",
    "        if c == '..':\n",
    "            if len(lst) != 0:\n",
    "                lst.pop()\n",
    "        else:\n",
    "            lst.append(c)\n",
    "    result = []\n",
    "    if len(lst) == 0:\n",
    "        return '/'\n",
    "    result = ['/' + i for i in lst]\n",
    "    return ''.join(result)"
   ]
  },
  {
   "cell_type": "markdown",
   "metadata": {},
   "source": [
    "### 4.解码字符串\n",
    "s = \"3[a]2[bc]\", return \"aaabcbc\".\n",
    "\n",
    "s = \"3[a2[c]]\", return \"accaccacc\".\n",
    "\n",
    "s = \"2[abc]3[cd]ef\", return \"abcabccdcdcdef\"."
   ]
  },
  {
   "cell_type": "code",
   "execution_count": 20,
   "metadata": {},
   "outputs": [],
   "source": [
    "def decodeString(s):\n",
    "    stack = []\n",
    "    stack.append(['', 1])\n",
    "    num = ''\n",
    "    for i in s:\n",
    "        if i.isdigit():\n",
    "            num += i\n",
    "        elif i == '[':\n",
    "            stack.append(['', int(num)])\n",
    "            num = ''\n",
    "        elif i == ']':\n",
    "            c, n = stack.pop()\n",
    "            stack[-1][0] += c*n\n",
    "        else:\n",
    "            stack[-1][0] += i\n",
    "    return stack[0][0]"
   ]
  },
  {
   "cell_type": "markdown",
   "metadata": {},
   "source": [
    "### 5.篮球比赛\n",
    "- Integer (one round's score): Directly represents the number of points you get in this round.\n",
    "- \"+\" (one round's score): Represents that the points you get in this round are the sum of the last two valid round's points.\n",
    "- \"D\" (one round's score): Represents that the points you get in this round are the doubled data of the last valid round's points.\n",
    "- \"C\" (an operation, which isn't a round's score): Represents the last valid round's points you get were invalid and should be removed.\n",
    "\n",
    "Each round's operation is permanent and could have an impact on the round before and the round after.\n",
    "\n",
    "You need to return the sum of the points you could get in all the rounds.\n",
    "\n",
    "Input: [\"5\",\"2\",\"C\",\"D\",\"+\"] \n",
    "\n",
    "Output: 30 \n",
    "\n",
    "- Round 1: You could get 5 points. The sum is: 5. \n",
    "\n",
    "- Round 2: You could get 2 points. The sum is: 7. Operation 1: The round 2's data was invalid. The sum is: 5. \n",
    "\n",
    "- Round 3: You could get 10 points (the round 2's data has been removed). The sum is: 15. \n",
    "\n",
    "- Round 4: You could get 5 + 10 = 15 points. \n",
    "\n",
    "- The sum is: 30.\n"
   ]
  },
  {
   "cell_type": "code",
   "execution_count": 30,
   "metadata": {},
   "outputs": [],
   "source": [
    "def calPoints(arr):\n",
    "    stack = []\n",
    "    for i in arr:\n",
    "        if i == '+':\n",
    "            stack.append(stack[-1] + stack[-2])\n",
    "        elif i == 'C':\n",
    "            stack.pop()\n",
    "        elif i == 'D':\n",
    "            stack.append(2 * stack[-1])\n",
    "        else:\n",
    "            stack.append(int(i))\n",
    "    return sum(stack)"
   ]
  },
  {
   "cell_type": "code",
   "execution_count": 31,
   "metadata": {},
   "outputs": [
    {
     "data": {
      "text/plain": [
       "30"
      ]
     },
     "execution_count": 31,
     "metadata": {},
     "output_type": "execute_result"
    }
   ],
   "source": [
    "ops = [\"5\",\"2\",\"C\",\"D\",\"+\"]\n",
    "calPoints(ops)"
   ]
  },
  {
   "cell_type": "markdown",
   "metadata": {},
   "source": [
    "### 6.找到数组中每个数右侧的第一个最大的数"
   ]
  },
  {
   "cell_type": "code",
   "execution_count": 34,
   "metadata": {},
   "outputs": [],
   "source": [
    "def getNextGreat(nums):\n",
    "    if len(nums) == 0:\n",
    "        return \n",
    "    stack = []\n",
    "    stack.append(nums[0])\n",
    "    for i in range(1, len(nums)):\n",
    "        while len(stack)!= 0 and nums[i] > stack[-1]:\n",
    "            num = stack.pop()\n",
    "            print(num, ':', nums[i])\n",
    "        stack.append(nums[i])\n",
    "    while len(stack) != 0:\n",
    "        print(stack.pop(), ': -1')"
   ]
  },
  {
   "cell_type": "code",
   "execution_count": 36,
   "metadata": {},
   "outputs": [
    {
     "name": "stdout",
     "output_type": "stream",
     "text": [
      "4 : 5\n",
      "2 : 25\n",
      "5 : 25\n",
      "6 : 25\n",
      "25 : -1\n"
     ]
    }
   ],
   "source": [
    "array = [6, 4, 5, 2, 25]\n",
    "getNextGreat(array)"
   ]
  },
  {
   "cell_type": "markdown",
   "metadata": {},
   "source": [
    "### 7.  日常温度\n",
    "• 根据日常气温列表,制作一个列表,在输入的每一天中,都会告诉您需要等待多长时间,直到温度升高. 如果没有可\n",
    "能的将来的日子,请将0代替.\n",
    "• 例题,给出列表温度=\t[73,74,75,71,69,72,76,73],你的输出应该是[1,1,4,2,1,1,0,0]."
   ]
  },
  {
   "cell_type": "code",
   "execution_count": 37,
   "metadata": {},
   "outputs": [],
   "source": [
    "def dailyTemperatures(temperatures):\n",
    "    if not temperatures: return []\n",
    "    result, stack = [0] * len(temperatures), []\n",
    "    stack.append((temperatures[0], 0))\n",
    "\n",
    "    for i in range(1, len(temperatures)):\n",
    "        while stack:\n",
    "            prev = stack[-1]\n",
    "            if prev[0] < temperatures[i]:\n",
    "                result[prev[1]] = i - prev[1]\n",
    "                stack.pop()\n",
    "            else:\n",
    "                break\n",
    "        stack.append((temperatures[i], i))\n",
    "    return result"
   ]
  },
  {
   "cell_type": "code",
   "execution_count": 38,
   "metadata": {},
   "outputs": [
    {
     "data": {
      "text/plain": [
       "[1, 1, 4, 2, 1, 1, 0, 0]"
      ]
     },
     "execution_count": 38,
     "metadata": {},
     "output_type": "execute_result"
    }
   ],
   "source": [
    "t = [73, 74, 75, 71, 69, 72, 76, 73]\n",
    "dailyTemperatures(t)"
   ]
  },
  {
   "cell_type": "code",
   "execution_count": null,
   "metadata": {},
   "outputs": [],
   "source": []
  }
 ],
 "metadata": {
  "kernelspec": {
   "display_name": "Python 3",
   "language": "python",
   "name": "python3"
  },
  "language_info": {
   "codemirror_mode": {
    "name": "ipython",
    "version": 3
   },
   "file_extension": ".py",
   "mimetype": "text/x-python",
   "name": "python",
   "nbconvert_exporter": "python",
   "pygments_lexer": "ipython3",
   "version": "3.8.5"
  }
 },
 "nbformat": 4,
 "nbformat_minor": 2
}
