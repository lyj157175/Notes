{
 "cells": [
  {
   "cell_type": "markdown",
   "metadata": {},
   "source": [
    "## 动态数组实现"
   ]
  },
  {
   "cell_type": "code",
   "execution_count": 53,
   "metadata": {},
   "outputs": [],
   "source": [
    "import ctypes\n",
    "\n",
    "class DynamicArray:\n",
    "    \n",
    "    def __init__(self):\n",
    "        self.n = 0\n",
    "        self.capacity = 10   # 默认数组的容量为10\n",
    "        self.arr = self.make_array(self.capacity)  # 构建一个c大小的空数组\n",
    "    \n",
    "    def __len__(self):\n",
    "        return self.n\n",
    "    \n",
    "    def is_empty(self):\n",
    "        return self.n == 0\n",
    "    \n",
    "    # 获得第idx个数据\n",
    "    def getitem(self, idx):\n",
    "        if not 0 <= idx < self.n:\n",
    "            raise ValueError('invalid index')\n",
    "        return self.arr[idx]\n",
    "    \n",
    "    def make_array(self, c):\n",
    "        return (c*ctypes.py_object)()\n",
    "    \n",
    "    # 创建一个大小为c的新数组\n",
    "    def resize(self, c):\n",
    "        new_arr = self.mak_array(c)\n",
    "        for i in range(self.n):\n",
    "            new_arr[i] = self.arr[i]\n",
    "        self.arr = new_arr\n",
    "        self.capacity = c\n",
    "    \n",
    "    def append(self, item):\n",
    "        if self.n == self.capacity:\n",
    "            self.resize(2*self.capacity)\n",
    "        self.arr[self.n] = item\n",
    "        self.n += 1\n",
    "    \n",
    "    def insert(self, position, item):\n",
    "        if self.n == self.capacity:\n",
    "            self.resize(2*self.capacity)\n",
    "        for i in range(self.n, position, -1):\n",
    "            self.arr[i] = self.arr[i-1]\n",
    "        self.arr[position] = item \n",
    "        self.n += 1\n",
    "        \n",
    "    def remove(self, item):\n",
    "        for i in range(self.n):\n",
    "            if self.arr[i] == item:\n",
    "                for j in range(i, self.n-1):\n",
    "                    self.arr[j] == self.arr[j+1]\n",
    "                self.arr[self.n-1] = None\n",
    "                self.n -= 1\n",
    "                return \n",
    "        raise ValueError('not found the value')\n",
    "        \n",
    "    def print(self):\n",
    "        for i in range(self.n):\n",
    "            print(self.arr[i], end=' ')\n",
    "        print()"
   ]
  },
  {
   "cell_type": "code",
   "execution_count": 66,
   "metadata": {},
   "outputs": [
    {
     "name": "stdout",
     "output_type": "stream",
     "text": [
      "1 2 hello Ture \n",
      "1 2 hello \n"
     ]
    }
   ],
   "source": [
    "mylist = DynamicArray()\n",
    "mylist.append(1)\n",
    "mylist.append(2)\n",
    "mylist.append('hello')\n",
    "mylist.append('Ture')\n",
    "mylist.print()\n",
    "mylist.getitem(2)\n",
    "mylist.remove('hello')\n",
    "mylist.print()"
   ]
  },
  {
   "cell_type": "code",
   "execution_count": null,
   "metadata": {},
   "outputs": [],
   "source": []
  },
  {
   "cell_type": "markdown",
   "metadata": {},
   "source": [
    "# 练习题"
   ]
  },
  {
   "cell_type": "markdown",
   "metadata": {},
   "source": [
    "### Ex1：挖雷游戏\n",
    "\n",
    "我们来写一个小程序：\n",
    "程序接收三个参数，M，N和p，然后生成一个M * N的矩阵，然后每一个cell有p的概率是地雷。生成矩阵后，再计算出每一个cell周围地雷的数量。"
   ]
  },
  {
   "cell_type": "code",
   "execution_count": 17,
   "metadata": {},
   "outputs": [],
   "source": [
    "import random\n",
    "\n",
    "def minesweeper(m, n, p):\n",
    "    board = [[None] * (n+2) for i in range(m+2)]\n",
    "    for i in range(1, m+1):\n",
    "        for j in range(1, n+1):\n",
    "            r = random.random()\n",
    "            board[i][j] = -1 if r < p else 0\n",
    "    \n",
    "    for i in range(1, m+1):\n",
    "        for j in range(1, n+1):\n",
    "            print('*', end=' ') if board[i][j] == -1 else print('.', end=' ')\n",
    "        print()\n",
    "    \n",
    "    for i in range(1, m+1):\n",
    "        for j in range(1, n+1):\n",
    "            if board[i][j] != -1: \n",
    "                for ii in range(i-1, i+2):\n",
    "                    for jj in range(j-1, j+2):\n",
    "                        if board[ii][jj] == -1:\n",
    "                            board[i][j] += 1\n",
    "    print()\n",
    "    for i in range(1, m+1):\n",
    "        for j in range(1, n+1):\n",
    "             print('*', end=' ') if board[i][j] == -1 else print(board[i][j], end=' ')\n",
    "        print()"
   ]
  },
  {
   "cell_type": "code",
   "execution_count": 18,
   "metadata": {},
   "outputs": [
    {
     "name": "stdout",
     "output_type": "stream",
     "text": [
      ". . * . . . . . . . \n",
      ". * * . * . . . . . \n",
      ". . . . . . . * . . \n",
      ". . . . . . * . . . \n",
      ". . . . . . . . . . \n",
      "\n",
      "1 3 * 3 1 1 0 0 0 0 \n",
      "1 * * 3 * 1 1 1 1 0 \n",
      "1 2 2 2 1 2 2 * 1 0 \n",
      "0 0 0 0 0 1 * 2 1 0 \n",
      "0 0 0 0 0 1 1 1 0 0 \n"
     ]
    }
   ],
   "source": [
    "minesweeper(5, 10, 0.2)"
   ]
  },
  {
   "cell_type": "markdown",
   "metadata": {},
   "source": [
    "### Ex2：矩阵0变换\n",
    "给一个m×n的矩阵，如果有一个元素为0，则把该元素对应的行与列所有元素全部变成0。"
   ]
  },
  {
   "cell_type": "code",
   "execution_count": 24,
   "metadata": {},
   "outputs": [],
   "source": [
    "matrix = [  [ 1, 1, 1, 1, 1, 0, 1, 1, 1, 1 ],\n",
    "            [ 1, 1, 1, 1, 1, 1, 1, 1, 1, 1 ],\n",
    "            [ 1, 1, 0, 1, 1, 1, 1, 1, 1, 1 ],\n",
    "            [ 1, 1, 1, 1, 1, 1, 1, 1, 1, 1 ],\n",
    "            [ 1, 1, 1, 1, 1, 1, 1, 1, 1, 1 ] ]\n",
    "\n",
    "def zero(matrix):\n",
    "    m = [None] * len(matrix)\n",
    "    n = [None] * len(matrix[0])\n",
    "    for i in range(len(m)):\n",
    "        for j in range(len(n)):\n",
    "            if matrix[i][j] == 0:\n",
    "                m[i] = 1\n",
    "                n[j] = 1\n",
    "    for i in range(len(m)):\n",
    "        for j in range(len(n)):\n",
    "            if m[i]==1 or n[j]==1:\n",
    "                matrix[i][j] = 0"
   ]
  },
  {
   "cell_type": "code",
   "execution_count": 25,
   "metadata": {},
   "outputs": [
    {
     "name": "stdout",
     "output_type": "stream",
     "text": [
      "[0, 0, 0, 0, 0, 0, 0, 0, 0, 0]\n",
      "[1, 1, 0, 1, 1, 0, 1, 1, 1, 1]\n",
      "[0, 0, 0, 0, 0, 0, 0, 0, 0, 0]\n",
      "[1, 1, 0, 1, 1, 0, 1, 1, 1, 1]\n",
      "[1, 1, 0, 1, 1, 0, 1, 1, 1, 1]\n"
     ]
    }
   ],
   "source": [
    "zero(matrix)\n",
    "for x in matrix:\n",
    "    print(x)"
   ]
  },
  {
   "cell_type": "markdown",
   "metadata": {},
   "source": [
    "### Ex3：九宫图"
   ]
  },
  {
   "cell_type": "code",
   "execution_count": 31,
   "metadata": {},
   "outputs": [],
   "source": [
    "def magic_square(n):\n",
    "    magic = [[0]*n for i in range(n)]\n",
    "    row = n - 1\n",
    "    col = n // 2\n",
    "    magic[row][col] = 1\n",
    "    for i in range(2, n*n + 1):\n",
    "        new_row = (row + 1) % n\n",
    "        new_col = (col + 1) % n\n",
    "        if magic[new_row][new_col] == 0:\n",
    "            row = new_row\n",
    "            col = new_col\n",
    "        else:\n",
    "            row = (row - 1 + n) % n\n",
    "        magic[row][col] = i\n",
    "    for x in magic:\n",
    "        print(x, sep=' ')"
   ]
  },
  {
   "cell_type": "code",
   "execution_count": 33,
   "metadata": {},
   "outputs": [
    {
     "name": "stdout",
     "output_type": "stream",
     "text": [
      "[11, 18, 25, 2, 9]\n",
      "[10, 12, 19, 21, 3]\n",
      "[4, 6, 13, 20, 22]\n",
      "[23, 5, 7, 14, 16]\n",
      "[17, 24, 1, 8, 15]\n"
     ]
    }
   ],
   "source": [
    "magic_square(5)"
   ]
  },
  {
   "cell_type": "markdown",
   "metadata": {},
   "source": [
    "### Ex4：数独\n",
    "给一个填好的数独，验证是否正确。"
   ]
  },
  {
   "cell_type": "code",
   "execution_count": 1,
   "metadata": {},
   "outputs": [],
   "source": [
    "matrix = [\n",
    "    [5,3,4,6,7,8,9,1,2],\n",
    "    [6,7,2,1,9,5,3,4,8],\n",
    "    [1,9,8,3,4,2,5,6,7],\n",
    "    [8,5,9,7,6,1,4,2,3],\n",
    "    [4,2,6,8,5,3,7,9,1],\n",
    "    [7,1,3,9,2,4,8,5,6],\n",
    "    [9,6,1,5,3,7,2,8,4],\n",
    "    [2,8,7,4,1,9,6,3,5],\n",
    "    [3,4,5,2,8,6,1,7,9]\n",
    "]\n",
    "\n",
    "def sudoku(matrix):\n",
    "    n = len(matrix)\n",
    "    result_row = result_col = result_blk = 0\n",
    "\n",
    "    for i in range(n):\n",
    "        result_row = result_col = result_blk = 0\n",
    "        for j in range(n):\n",
    "            ## check row\n",
    "            tmp = matrix[i][j]\n",
    "            if ((result_row & (1 << (tmp-1))) == 0):\n",
    "                result_row = result_row | (1<<(tmp-1))\n",
    "            else:\n",
    "                print(\"row: \", i, j)\n",
    "                return False\n",
    "\n",
    "            ## check column\n",
    "            tmp = matrix[j][i]\n",
    "            if ((result_col & (1 << (tmp-1))) == 0):\n",
    "                result_col = result_col | (1<<(tmp-1))\n",
    "            else:\n",
    "                print(\"col: \", j, i)\n",
    "                return False\n",
    "\n",
    "            ## check block\n",
    "            idx_row = (i//3) * 3 + j//3\n",
    "            idx_col = (i%3)  * 3 + j%3\n",
    "            tmp = matrix[idx_row][idx_col]\n",
    "            if ((result_blk & (1 << (tmp-1))) == 0):\n",
    "                result_blk = result_blk | (1<<(tmp-1))\n",
    "            else:\n",
    "                print(\"block: \", idx_row, idx_col)\n",
    "                return False\n",
    "    return True "
   ]
  },
  {
   "cell_type": "code",
   "execution_count": 2,
   "metadata": {},
   "outputs": [
    {
     "data": {
      "text/plain": [
       "True"
      ]
     },
     "execution_count": 2,
     "metadata": {},
     "output_type": "execute_result"
    }
   ],
   "source": [
    "sudoku(matrix)"
   ]
  },
  {
   "cell_type": "markdown",
   "metadata": {},
   "source": [
    "### Ex5：旋转数组\n",
    "给一个n×n的数组，旋转90度。"
   ]
  },
  {
   "cell_type": "code",
   "execution_count": 3,
   "metadata": {},
   "outputs": [],
   "source": [
    "def rotate(matrix):\n",
    "    n = len(matrix)\n",
    "    board = [[0]*n for i in range(n)]\n",
    "    for i in range(n):\n",
    "        for j in range(n):\n",
    "            board[j][n-1-i] = matrix[i][j]\n",
    "    for x in board:\n",
    "        print(x, sep=' ')"
   ]
  },
  {
   "cell_type": "code",
   "execution_count": 9,
   "metadata": {},
   "outputs": [
    {
     "name": "stdout",
     "output_type": "stream",
     "text": [
      "[20, 15, 10, 5, 0]\n",
      "[21, 16, 11, 6, 1]\n",
      "[22, 17, 12, 7, 2]\n",
      "[23, 18, 13, 8, 3]\n",
      "[24, 19, 14, 9, 4]\n"
     ]
    }
   ],
   "source": [
    "matrix = [[i*5+j for j in range(5)] for i in range(5)]\n",
    "matrix\n",
    "rotate(matrix)"
   ]
  },
  {
   "cell_type": "markdown",
   "metadata": {},
   "source": [
    "### Ex6：反转字符串\n",
    "hello => olleh"
   ]
  },
  {
   "cell_type": "code",
   "execution_count": 10,
   "metadata": {},
   "outputs": [],
   "source": [
    "def reverse(s):\n",
    "    return s[::-1]"
   ]
  },
  {
   "cell_type": "code",
   "execution_count": 11,
   "metadata": {},
   "outputs": [
    {
     "data": {
      "text/plain": [
       "'olleh'"
      ]
     },
     "execution_count": 11,
     "metadata": {},
     "output_type": "execute_result"
    }
   ],
   "source": [
    "reverse('hello')"
   ]
  },
  {
   "cell_type": "markdown",
   "metadata": {},
   "source": [
    "### Ex7：最长连续子串\n",
    "给一个只包含0和1的数组，找出最长的全是1的子数组。\n",
    "\n",
    "Example:\n",
    "\n",
    "Input: [1,1,0,1,1,1]\n",
    "\n",
    "Output: 3\n"
   ]
  },
  {
   "cell_type": "code",
   "execution_count": 16,
   "metadata": {},
   "outputs": [],
   "source": [
    "def find_max_str(nums):\n",
    "    local = maximum = 0\n",
    "    for i in nums:\n",
    "        local = local + 1 if i==1 else 0\n",
    "        maximum = max(local, maximum)\n",
    "    return maximum"
   ]
  },
  {
   "cell_type": "code",
   "execution_count": 17,
   "metadata": {},
   "outputs": [
    {
     "data": {
      "text/plain": [
       "4"
      ]
     },
     "execution_count": 17,
     "metadata": {},
     "output_type": "execute_result"
    }
   ],
   "source": [
    "nums = [1,1,0,1,1,1,1,0,0,0,0,0,1,1,1,0,0,1]\n",
    "result = find_max_str(nums)\n",
    "result"
   ]
  },
  {
   "cell_type": "markdown",
   "metadata": {},
   "source": [
    "### Ex8：最大数\n",
    "给定一个数组，数组里有一个数有且只有一个最大数，判断这个最大数是否是其他数的两倍或更大。如果存在这个数，则返回其index，否则返回-1。"
   ]
  },
  {
   "cell_type": "code",
   "execution_count": 18,
   "metadata": {},
   "outputs": [],
   "source": [
    "def largest_twice(nums):\n",
    "    maximum = second = idx = 0\n",
    "    for i in nums:\n",
    "        if maximum < i:\n",
    "            second = maximum\n",
    "            maximum = i\n",
    "            idx = nums.index(i)\n",
    "        elif second < i:\n",
    "            second = i\n",
    "    return idx if (maximum >= second*2) else -1"
   ]
  },
  {
   "cell_type": "code",
   "execution_count": 19,
   "metadata": {},
   "outputs": [
    {
     "data": {
      "text/plain": [
       "3"
      ]
     },
     "execution_count": 19,
     "metadata": {},
     "output_type": "execute_result"
    }
   ],
   "source": [
    "nums = [1, 2,3,8,3,2,1]\n",
    "result = largest_twice(nums)\n",
    "result"
   ]
  },
  {
   "cell_type": "code",
   "execution_count": null,
   "metadata": {},
   "outputs": [],
   "source": []
  }
 ],
 "metadata": {
  "kernelspec": {
   "display_name": "Python 3",
   "language": "python",
   "name": "python3"
  },
  "language_info": {
   "codemirror_mode": {
    "name": "ipython",
    "version": 3
   },
   "file_extension": ".py",
   "mimetype": "text/x-python",
   "name": "python",
   "nbconvert_exporter": "python",
   "pygments_lexer": "ipython3",
   "version": "3.8.5"
  }
 },
 "nbformat": 4,
 "nbformat_minor": 2
}
