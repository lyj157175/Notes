{
 "cells": [
  {
   "cell_type": "code",
   "execution_count": null,
   "metadata": {},
   "outputs": [],
   "source": [
    "# 你所知道的查找算法？\n",
    "\n",
    "# 暴力：   遍历\n",
    "# 二分：  （需要有序）\n",
    "# 哈希:   最高效O(1)\n",
    "# 插值\n",
    "# 索引\n",
    "# bfs&dfs   图论遍历\n",
    "# 二叉搜索树(BST)\n",
    "# 平衡树二叉搜索树(AVL)\n",
    "# B+树\n",
    "# B-Tree\n",
    "# 红黑树     底层：二叉搜索树\n",
    "\n",
    "# 红黑树的性质：\n",
    "# 1. 每个节点不是红色就是黑色\n",
    "# 2. 不可能有连在一起的红色节点\n",
    "# 3. 根节点是黑色root  （根节点是唯一没有父节点的点，入度为0）\n",
    "# 4. 每个红色节点的两个子节点都是黑色，叶子节点都是黑色 \n",
    "\n",
    "\n",
    "# 红黑树的变化操作：\n",
    "# 1. 变色：红变黑，黑变红\n",
    "# 2. 左旋或右旋\n",
    "\n",
    "\n",
    "# 变化规则：所有插入的点默认为红色\n",
    "# 1. 变色情况：当前节点的父节点和叔节点都是红色\n",
    "# 1）把父节点和叔节点设为黑色，爷爷节点设为红色，并以爷爷节点为当前节点分析旋转规则\n",
    "# 2. 左旋： 当前父节点为红色，叔节点是黑色，且当前节点是右子树，以父节点进行左旋\n",
    "# 3. 右旋： 当前父节点为红色，叔节点为黑色，且当前节点是左子树，右旋。把父节点变为黑色，爷爷节点变为红色，并以爷爷节点进行旋转"
   ]
  }
 ],
 "metadata": {
  "kernelspec": {
   "display_name": "Python 3.7.4 64-bit ('base': conda)",
   "language": "python",
   "name": "python37464bitbasecondac1ed852f726f46e99aa9eda212d43d36"
  },
  "language_info": {
   "codemirror_mode": {
    "name": "ipython",
    "version": 3
   },
   "file_extension": ".py",
   "mimetype": "text/x-python",
   "name": "python",
   "nbconvert_exporter": "python",
   "pygments_lexer": "ipython3",
   "version": "3.7.4"
  }
 },
 "nbformat": 4,
 "nbformat_minor": 2
}
